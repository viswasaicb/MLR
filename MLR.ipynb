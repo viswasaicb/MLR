{
 "cells": [
  {
   "cell_type": "markdown",
   "metadata": {},
   "source": [
    "### 1. Collecting the data"
   ]
  },
  {
   "cell_type": "code",
   "execution_count": 1,
   "metadata": {},
   "outputs": [
    {
     "data": {
      "text/html": [
       "<div>\n",
       "<style scoped>\n",
       "    .dataframe tbody tr th:only-of-type {\n",
       "        vertical-align: middle;\n",
       "    }\n",
       "\n",
       "    .dataframe tbody tr th {\n",
       "        vertical-align: top;\n",
       "    }\n",
       "\n",
       "    .dataframe thead th {\n",
       "        text-align: right;\n",
       "    }\n",
       "</style>\n",
       "<table border=\"1\" class=\"dataframe\">\n",
       "  <thead>\n",
       "    <tr style=\"text-align: right;\">\n",
       "      <th></th>\n",
       "      <th>Price</th>\n",
       "      <th>Age_08_04</th>\n",
       "      <th>KM</th>\n",
       "      <th>Fuel_Type</th>\n",
       "      <th>HP</th>\n",
       "      <th>Automatic</th>\n",
       "      <th>cc</th>\n",
       "      <th>Doors</th>\n",
       "      <th>Cylinders</th>\n",
       "      <th>Gears</th>\n",
       "      <th>Weight</th>\n",
       "    </tr>\n",
       "  </thead>\n",
       "  <tbody>\n",
       "    <tr>\n",
       "      <th>0</th>\n",
       "      <td>13500</td>\n",
       "      <td>23</td>\n",
       "      <td>46986</td>\n",
       "      <td>Diesel</td>\n",
       "      <td>90</td>\n",
       "      <td>0</td>\n",
       "      <td>2000</td>\n",
       "      <td>3</td>\n",
       "      <td>4</td>\n",
       "      <td>5</td>\n",
       "      <td>1165</td>\n",
       "    </tr>\n",
       "    <tr>\n",
       "      <th>1</th>\n",
       "      <td>13750</td>\n",
       "      <td>23</td>\n",
       "      <td>72937</td>\n",
       "      <td>Diesel</td>\n",
       "      <td>90</td>\n",
       "      <td>0</td>\n",
       "      <td>2000</td>\n",
       "      <td>3</td>\n",
       "      <td>4</td>\n",
       "      <td>5</td>\n",
       "      <td>1165</td>\n",
       "    </tr>\n",
       "    <tr>\n",
       "      <th>2</th>\n",
       "      <td>13950</td>\n",
       "      <td>24</td>\n",
       "      <td>41711</td>\n",
       "      <td>Diesel</td>\n",
       "      <td>90</td>\n",
       "      <td>0</td>\n",
       "      <td>2000</td>\n",
       "      <td>3</td>\n",
       "      <td>4</td>\n",
       "      <td>5</td>\n",
       "      <td>1165</td>\n",
       "    </tr>\n",
       "    <tr>\n",
       "      <th>3</th>\n",
       "      <td>14950</td>\n",
       "      <td>26</td>\n",
       "      <td>48000</td>\n",
       "      <td>Diesel</td>\n",
       "      <td>90</td>\n",
       "      <td>0</td>\n",
       "      <td>2000</td>\n",
       "      <td>3</td>\n",
       "      <td>4</td>\n",
       "      <td>5</td>\n",
       "      <td>1165</td>\n",
       "    </tr>\n",
       "    <tr>\n",
       "      <th>4</th>\n",
       "      <td>13750</td>\n",
       "      <td>30</td>\n",
       "      <td>38500</td>\n",
       "      <td>Diesel</td>\n",
       "      <td>90</td>\n",
       "      <td>0</td>\n",
       "      <td>2000</td>\n",
       "      <td>3</td>\n",
       "      <td>4</td>\n",
       "      <td>5</td>\n",
       "      <td>1170</td>\n",
       "    </tr>\n",
       "  </tbody>\n",
       "</table>\n",
       "</div>"
      ],
      "text/plain": [
       "   Price  Age_08_04     KM Fuel_Type  HP  Automatic    cc  Doors  Cylinders  \\\n",
       "0  13500         23  46986    Diesel  90          0  2000      3          4   \n",
       "1  13750         23  72937    Diesel  90          0  2000      3          4   \n",
       "2  13950         24  41711    Diesel  90          0  2000      3          4   \n",
       "3  14950         26  48000    Diesel  90          0  2000      3          4   \n",
       "4  13750         30  38500    Diesel  90          0  2000      3          4   \n",
       "\n",
       "   Gears  Weight  \n",
       "0      5    1165  \n",
       "1      5    1165  \n",
       "2      5    1165  \n",
       "3      5    1165  \n",
       "4      5    1170  "
      ]
     },
     "execution_count": 1,
     "metadata": {},
     "output_type": "execute_result"
    }
   ],
   "source": [
    "import pandas as pd # type: ignore\n",
    "\n",
    "df = pd.read_csv('ToyotaCorolla.csv')\n",
    "df.head()"
   ]
  },
  {
   "cell_type": "code",
   "execution_count": 2,
   "metadata": {},
   "outputs": [
    {
     "name": "stdout",
     "output_type": "stream",
     "text": [
      "<class 'pandas.core.frame.DataFrame'>\n",
      "RangeIndex: 1436 entries, 0 to 1435\n",
      "Data columns (total 11 columns):\n",
      " #   Column     Non-Null Count  Dtype \n",
      "---  ------     --------------  ----- \n",
      " 0   Price      1436 non-null   int64 \n",
      " 1   Age_08_04  1436 non-null   int64 \n",
      " 2   KM         1436 non-null   int64 \n",
      " 3   Fuel_Type  1436 non-null   object\n",
      " 4   HP         1436 non-null   int64 \n",
      " 5   Automatic  1436 non-null   int64 \n",
      " 6   cc         1436 non-null   int64 \n",
      " 7   Doors      1436 non-null   int64 \n",
      " 8   Cylinders  1436 non-null   int64 \n",
      " 9   Gears      1436 non-null   int64 \n",
      " 10  Weight     1436 non-null   int64 \n",
      "dtypes: int64(10), object(1)\n",
      "memory usage: 123.5+ KB\n"
     ]
    }
   ],
   "source": [
    "df.info()"
   ]
  },
  {
   "cell_type": "markdown",
   "metadata": {},
   "source": [
    "### 2. Data Cleaning"
   ]
  },
  {
   "cell_type": "code",
   "execution_count": 3,
   "metadata": {},
   "outputs": [
    {
     "data": {
      "text/plain": [
       "Fuel_Type\n",
       "Petrol    1264\n",
       "Diesel     155\n",
       "CNG         17\n",
       "Name: count, dtype: int64"
      ]
     },
     "execution_count": 3,
     "metadata": {},
     "output_type": "execute_result"
    }
   ],
   "source": [
    "df['Fuel_Type'].value_counts()"
   ]
  },
  {
   "cell_type": "code",
   "execution_count": 4,
   "metadata": {},
   "outputs": [
    {
     "data": {
      "text/plain": [
       "Doors\n",
       "5    674\n",
       "3    622\n",
       "4    138\n",
       "2      2\n",
       "Name: count, dtype: int64"
      ]
     },
     "execution_count": 4,
     "metadata": {},
     "output_type": "execute_result"
    }
   ],
   "source": [
    "df['Doors'].value_counts()"
   ]
  },
  {
   "cell_type": "code",
   "execution_count": 5,
   "metadata": {},
   "outputs": [
    {
     "data": {
      "text/plain": [
       "Gears\n",
       "5    1390\n",
       "6      43\n",
       "3       2\n",
       "4       1\n",
       "Name: count, dtype: int64"
      ]
     },
     "execution_count": 5,
     "metadata": {},
     "output_type": "execute_result"
    }
   ],
   "source": [
    "df['Gears'].value_counts()"
   ]
  },
  {
   "cell_type": "code",
   "execution_count": 6,
   "metadata": {},
   "outputs": [
    {
     "data": {
      "text/plain": [
       "Automatic\n",
       "0    1356\n",
       "1      80\n",
       "Name: count, dtype: int64"
      ]
     },
     "execution_count": 6,
     "metadata": {},
     "output_type": "execute_result"
    }
   ],
   "source": [
    "df['Automatic'].value_counts()"
   ]
  },
  {
   "cell_type": "code",
   "execution_count": 7,
   "metadata": {},
   "outputs": [],
   "source": [
    "# As the Cylinders column contains only the value '4' in all the rows. The Cylinders column is of no use.\n",
    "# So, we can remove the Cylinders column from the dataset.\n",
    "df.drop(df[['Cylinders']], axis = 1, inplace = True)"
   ]
  },
  {
   "cell_type": "code",
   "execution_count": 8,
   "metadata": {},
   "outputs": [
    {
     "data": {
      "text/html": [
       "<div>\n",
       "<style scoped>\n",
       "    .dataframe tbody tr th:only-of-type {\n",
       "        vertical-align: middle;\n",
       "    }\n",
       "\n",
       "    .dataframe tbody tr th {\n",
       "        vertical-align: top;\n",
       "    }\n",
       "\n",
       "    .dataframe thead th {\n",
       "        text-align: right;\n",
       "    }\n",
       "</style>\n",
       "<table border=\"1\" class=\"dataframe\">\n",
       "  <thead>\n",
       "    <tr style=\"text-align: right;\">\n",
       "      <th></th>\n",
       "      <th>Price</th>\n",
       "      <th>Age_08_04</th>\n",
       "      <th>KM</th>\n",
       "      <th>HP</th>\n",
       "      <th>Automatic</th>\n",
       "      <th>cc</th>\n",
       "      <th>Doors</th>\n",
       "      <th>Gears</th>\n",
       "      <th>Weight</th>\n",
       "    </tr>\n",
       "  </thead>\n",
       "  <tbody>\n",
       "    <tr>\n",
       "      <th>count</th>\n",
       "      <td>1436.000000</td>\n",
       "      <td>1436.000000</td>\n",
       "      <td>1436.000000</td>\n",
       "      <td>1436.000000</td>\n",
       "      <td>1436.000000</td>\n",
       "      <td>1436.00000</td>\n",
       "      <td>1436.000000</td>\n",
       "      <td>1436.000000</td>\n",
       "      <td>1436.00000</td>\n",
       "    </tr>\n",
       "    <tr>\n",
       "      <th>mean</th>\n",
       "      <td>10730.824513</td>\n",
       "      <td>55.947075</td>\n",
       "      <td>68533.259749</td>\n",
       "      <td>101.502089</td>\n",
       "      <td>0.055710</td>\n",
       "      <td>1576.85585</td>\n",
       "      <td>4.033426</td>\n",
       "      <td>5.026462</td>\n",
       "      <td>1072.45961</td>\n",
       "    </tr>\n",
       "    <tr>\n",
       "      <th>std</th>\n",
       "      <td>3626.964585</td>\n",
       "      <td>18.599988</td>\n",
       "      <td>37506.448872</td>\n",
       "      <td>14.981080</td>\n",
       "      <td>0.229441</td>\n",
       "      <td>424.38677</td>\n",
       "      <td>0.952677</td>\n",
       "      <td>0.188510</td>\n",
       "      <td>52.64112</td>\n",
       "    </tr>\n",
       "    <tr>\n",
       "      <th>min</th>\n",
       "      <td>4350.000000</td>\n",
       "      <td>1.000000</td>\n",
       "      <td>1.000000</td>\n",
       "      <td>69.000000</td>\n",
       "      <td>0.000000</td>\n",
       "      <td>1300.00000</td>\n",
       "      <td>2.000000</td>\n",
       "      <td>3.000000</td>\n",
       "      <td>1000.00000</td>\n",
       "    </tr>\n",
       "    <tr>\n",
       "      <th>25%</th>\n",
       "      <td>8450.000000</td>\n",
       "      <td>44.000000</td>\n",
       "      <td>43000.000000</td>\n",
       "      <td>90.000000</td>\n",
       "      <td>0.000000</td>\n",
       "      <td>1400.00000</td>\n",
       "      <td>3.000000</td>\n",
       "      <td>5.000000</td>\n",
       "      <td>1040.00000</td>\n",
       "    </tr>\n",
       "    <tr>\n",
       "      <th>50%</th>\n",
       "      <td>9900.000000</td>\n",
       "      <td>61.000000</td>\n",
       "      <td>63389.500000</td>\n",
       "      <td>110.000000</td>\n",
       "      <td>0.000000</td>\n",
       "      <td>1600.00000</td>\n",
       "      <td>4.000000</td>\n",
       "      <td>5.000000</td>\n",
       "      <td>1070.00000</td>\n",
       "    </tr>\n",
       "    <tr>\n",
       "      <th>75%</th>\n",
       "      <td>11950.000000</td>\n",
       "      <td>70.000000</td>\n",
       "      <td>87020.750000</td>\n",
       "      <td>110.000000</td>\n",
       "      <td>0.000000</td>\n",
       "      <td>1600.00000</td>\n",
       "      <td>5.000000</td>\n",
       "      <td>5.000000</td>\n",
       "      <td>1085.00000</td>\n",
       "    </tr>\n",
       "    <tr>\n",
       "      <th>max</th>\n",
       "      <td>32500.000000</td>\n",
       "      <td>80.000000</td>\n",
       "      <td>243000.000000</td>\n",
       "      <td>192.000000</td>\n",
       "      <td>1.000000</td>\n",
       "      <td>16000.00000</td>\n",
       "      <td>5.000000</td>\n",
       "      <td>6.000000</td>\n",
       "      <td>1615.00000</td>\n",
       "    </tr>\n",
       "  </tbody>\n",
       "</table>\n",
       "</div>"
      ],
      "text/plain": [
       "              Price    Age_08_04             KM           HP    Automatic  \\\n",
       "count   1436.000000  1436.000000    1436.000000  1436.000000  1436.000000   \n",
       "mean   10730.824513    55.947075   68533.259749   101.502089     0.055710   \n",
       "std     3626.964585    18.599988   37506.448872    14.981080     0.229441   \n",
       "min     4350.000000     1.000000       1.000000    69.000000     0.000000   \n",
       "25%     8450.000000    44.000000   43000.000000    90.000000     0.000000   \n",
       "50%     9900.000000    61.000000   63389.500000   110.000000     0.000000   \n",
       "75%    11950.000000    70.000000   87020.750000   110.000000     0.000000   \n",
       "max    32500.000000    80.000000  243000.000000   192.000000     1.000000   \n",
       "\n",
       "                cc        Doors        Gears      Weight  \n",
       "count   1436.00000  1436.000000  1436.000000  1436.00000  \n",
       "mean    1576.85585     4.033426     5.026462  1072.45961  \n",
       "std      424.38677     0.952677     0.188510    52.64112  \n",
       "min     1300.00000     2.000000     3.000000  1000.00000  \n",
       "25%     1400.00000     3.000000     5.000000  1040.00000  \n",
       "50%     1600.00000     4.000000     5.000000  1070.00000  \n",
       "75%     1600.00000     5.000000     5.000000  1085.00000  \n",
       "max    16000.00000     5.000000     6.000000  1615.00000  "
      ]
     },
     "execution_count": 8,
     "metadata": {},
     "output_type": "execute_result"
    }
   ],
   "source": [
    "df.describe()"
   ]
  },
  {
   "cell_type": "code",
   "execution_count": 9,
   "metadata": {},
   "outputs": [
    {
     "data": {
      "image/png": "[encoded data removed]",
      "text/plain": [
       "<Figure size 1000x600 with 1 Axes>"
      ]
     },
     "metadata": {},
     "output_type": "display_data"
    }
   ],
   "source": [
    "import matplotlib.pyplot as plt\n",
    "import seaborn as sns\n",
    "plt.figure(figsize = (10, 6))\n",
    "sns.boxplot(data=df)\n",
    "plt.show()"
   ]
  },
  {
   "cell_type": "markdown",
   "metadata": {},
   "source": [
    "As the outliers are present in the columns of the given dataset, we have to impute the outliers rather than removing them.\n",
    "\n",
    "Hence we can replace the outliers with median value of that respective column."
   ]
  },
  {
   "cell_type": "code",
   "execution_count": 10,
   "metadata": {},
   "outputs": [
    {
     "data": {
      "image/png": "[encoded data removed]",
      "text/plain": [
       "<Figure size 640x480 with 1 Axes>"
      ]
     },
     "metadata": {},
     "output_type": "display_data"
    }
   ],
   "source": [
    "import matplotlib.pyplot as plt # type: ignore\n",
    "plt.hist(df['Price'])\n",
    "plt.show()"
   ]
  },
  {
   "cell_type": "code",
   "execution_count": 11,
   "metadata": {},
   "outputs": [
    {
     "data": {
      "image/png": "[encoded data removed]",
      "text/plain": [
       "<Figure size 640x480 with 1 Axes>"
      ]
     },
     "metadata": {},
     "output_type": "display_data"
    }
   ],
   "source": [
    "plt.hist(df['KM'])\n",
    "plt.show()"
   ]
  },
  {
   "cell_type": "code",
   "execution_count": 12,
   "metadata": {},
   "outputs": [
    {
     "data": {
      "image/png": "[encoded data removed]",
      "text/plain": [
       "<Figure size 640x480 with 1 Axes>"
      ]
     },
     "metadata": {},
     "output_type": "display_data"
    }
   ],
   "source": [
    "plt.hist(df['Weight'])\n",
    "plt.show()"
   ]
  },
  {
   "cell_type": "markdown",
   "metadata": {},
   "source": [
    "As the skewness of the above histograms is highely positive skewed, it indicates the presence of outliers."
   ]
  },
  {
   "cell_type": "code",
   "execution_count": 13,
   "metadata": {},
   "outputs": [
    {
     "name": "stdout",
     "output_type": "stream",
     "text": [
      "<class 'pandas.core.frame.DataFrame'>\n",
      "RangeIndex: 1436 entries, 0 to 1435\n",
      "Data columns (total 10 columns):\n",
      " #   Column     Non-Null Count  Dtype \n",
      "---  ------     --------------  ----- \n",
      " 0   Price      1436 non-null   int64 \n",
      " 1   Age_08_04  1436 non-null   int64 \n",
      " 2   KM         1436 non-null   int64 \n",
      " 3   Fuel_Type  1436 non-null   object\n",
      " 4   HP         1436 non-null   int64 \n",
      " 5   Automatic  1436 non-null   int64 \n",
      " 6   cc         1436 non-null   int64 \n",
      " 7   Doors      1436 non-null   int64 \n",
      " 8   Gears      1436 non-null   int64 \n",
      " 9   Weight     1436 non-null   int64 \n",
      "dtypes: int64(9), object(1)\n",
      "memory usage: 112.3+ KB\n"
     ]
    }
   ],
   "source": [
    "df.info()"
   ]
  },
  {
   "cell_type": "code",
   "execution_count": 14,
   "metadata": {},
   "outputs": [
    {
     "data": {
      "text/html": [
       "<div>\n",
       "<style scoped>\n",
       "    .dataframe tbody tr th:only-of-type {\n",
       "        vertical-align: middle;\n",
       "    }\n",
       "\n",
       "    .dataframe tbody tr th {\n",
       "        vertical-align: top;\n",
       "    }\n",
       "\n",
       "    .dataframe thead th {\n",
       "        text-align: right;\n",
       "    }\n",
       "</style>\n",
       "<table border=\"1\" class=\"dataframe\">\n",
       "  <thead>\n",
       "    <tr style=\"text-align: right;\">\n",
       "      <th></th>\n",
       "      <th>Price</th>\n",
       "      <th>Age_08_04</th>\n",
       "      <th>KM</th>\n",
       "      <th>Fuel_Type</th>\n",
       "      <th>HP</th>\n",
       "      <th>Automatic</th>\n",
       "      <th>cc</th>\n",
       "      <th>Doors</th>\n",
       "      <th>Gears</th>\n",
       "      <th>Weight</th>\n",
       "    </tr>\n",
       "  </thead>\n",
       "  <tbody>\n",
       "    <tr>\n",
       "      <th>0</th>\n",
       "      <td>13500</td>\n",
       "      <td>23</td>\n",
       "      <td>46986</td>\n",
       "      <td>Diesel</td>\n",
       "      <td>90</td>\n",
       "      <td>0</td>\n",
       "      <td>2000</td>\n",
       "      <td>3</td>\n",
       "      <td>5</td>\n",
       "      <td>1165</td>\n",
       "    </tr>\n",
       "    <tr>\n",
       "      <th>1</th>\n",
       "      <td>13750</td>\n",
       "      <td>23</td>\n",
       "      <td>72937</td>\n",
       "      <td>Diesel</td>\n",
       "      <td>90</td>\n",
       "      <td>0</td>\n",
       "      <td>2000</td>\n",
       "      <td>3</td>\n",
       "      <td>5</td>\n",
       "      <td>1165</td>\n",
       "    </tr>\n",
       "    <tr>\n",
       "      <th>2</th>\n",
       "      <td>13950</td>\n",
       "      <td>24</td>\n",
       "      <td>41711</td>\n",
       "      <td>Diesel</td>\n",
       "      <td>90</td>\n",
       "      <td>0</td>\n",
       "      <td>2000</td>\n",
       "      <td>3</td>\n",
       "      <td>5</td>\n",
       "      <td>1165</td>\n",
       "    </tr>\n",
       "    <tr>\n",
       "      <th>3</th>\n",
       "      <td>14950</td>\n",
       "      <td>26</td>\n",
       "      <td>48000</td>\n",
       "      <td>Diesel</td>\n",
       "      <td>90</td>\n",
       "      <td>0</td>\n",
       "      <td>2000</td>\n",
       "      <td>3</td>\n",
       "      <td>5</td>\n",
       "      <td>1165</td>\n",
       "    </tr>\n",
       "    <tr>\n",
       "      <th>4</th>\n",
       "      <td>13750</td>\n",
       "      <td>30</td>\n",
       "      <td>38500</td>\n",
       "      <td>Diesel</td>\n",
       "      <td>90</td>\n",
       "      <td>0</td>\n",
       "      <td>2000</td>\n",
       "      <td>3</td>\n",
       "      <td>5</td>\n",
       "      <td>1170</td>\n",
       "    </tr>\n",
       "  </tbody>\n",
       "</table>\n",
       "</div>"
      ],
      "text/plain": [
       "   Price  Age_08_04     KM Fuel_Type  HP  Automatic    cc  Doors  Gears  \\\n",
       "0  13500         23  46986    Diesel  90          0  2000      3      5   \n",
       "1  13750         23  72937    Diesel  90          0  2000      3      5   \n",
       "2  13950         24  41711    Diesel  90          0  2000      3      5   \n",
       "3  14950         26  48000    Diesel  90          0  2000      3      5   \n",
       "4  13750         30  38500    Diesel  90          0  2000      3      5   \n",
       "\n",
       "   Weight  \n",
       "0    1165  \n",
       "1    1165  \n",
       "2    1165  \n",
       "3    1165  \n",
       "4    1170  "
      ]
     },
     "execution_count": 14,
     "metadata": {},
     "output_type": "execute_result"
    }
   ],
   "source": [
    "df.head()"
   ]
  },
  {
   "cell_type": "code",
   "execution_count": 15,
   "metadata": {},
   "outputs": [
    {
     "name": "stdout",
     "output_type": "stream",
     "text": [
      "      Age_08_04     KM   HP    cc  Weight\n",
      "0            23  46986   90  1600    1065\n",
      "1            23  72937   90  1600    1065\n",
      "2            24  41711   90  1600    1065\n",
      "3            26  48000   90  1600    1065\n",
      "4            30  38500   90  1600    1065\n",
      "...         ...    ...  ...   ...     ...\n",
      "1431         69  20544   86  1300    1025\n",
      "1432         72  19000   86  1300    1015\n",
      "1433         71  17016   86  1300    1015\n",
      "1434         70  16916   86  1300    1015\n",
      "1435         76      1  110  1600    1114\n",
      "\n",
      "[1436 rows x 5 columns]\n"
     ]
    }
   ],
   "source": [
    "# Imputing the outliers with Median value\n",
    "\n",
    "import numpy as np # type: ignore\n",
    "\n",
    "df_num = df[['Age_08_04', 'KM', 'HP', 'cc', 'Weight']]\n",
    "\n",
    "def replace_outliers_with_median(df):\n",
    "  \"\"\"\n",
    "  Replaces outliers in each column of a DataFrame with the median of that column,\n",
    "  excluding the outliers themselves.\n",
    "\n",
    "  Args:\n",
    "    df: A pandas DataFrame.\n",
    "\n",
    "  Returns:\n",
    "    A new pandas DataFrame with outliers replaced by median values.\n",
    "  \"\"\"\n",
    "  new_df = df.copy()\n",
    "\n",
    "  # Iterate over numeric columns\n",
    "  for col in new_df.select_dtypes(include=[np.number]):\n",
    "    # Define IQR outlier threshold function (adjust multiplier as needed)\n",
    "    def is_outlier(series):\n",
    "      q1 = series.quantile(0.25)\n",
    "      q3 = series.quantile(0.75)\n",
    "      iqr = q3 - q1\n",
    "      lower_bound = q1 - (1.5 * iqr)\n",
    "      upper_bound = q3 + (1.5 * iqr)\n",
    "      return ~((series >= lower_bound) & (series <= upper_bound))\n",
    "\n",
    "    # Find outliers (boolean Series)\n",
    "    outliers = is_outlier(new_df[col])\n",
    "    \n",
    "    # Replace outliers with median (excluding outliers in median calculation)\n",
    "    median_val = new_df.loc[~outliers, col].median()\n",
    "    new_df.loc[outliers, col] = median_val\n",
    "\n",
    "  return new_df\n",
    "\n",
    "X = replace_outliers_with_median(df_num)\n",
    "print(X)"
   ]
  },
  {
   "cell_type": "markdown",
   "metadata": {},
   "source": [
    "The outliers present in the continuous variables has been replaced with the median value of that respective column \n",
    "\n",
    "in which the median is calculated without the presence of outliers in the column."
   ]
  },
  {
   "cell_type": "code",
   "execution_count": 16,
   "metadata": {},
   "outputs": [
    {
     "data": {
      "text/html": [
       "<div>\n",
       "<style scoped>\n",
       "    .dataframe tbody tr th:only-of-type {\n",
       "        vertical-align: middle;\n",
       "    }\n",
       "\n",
       "    .dataframe tbody tr th {\n",
       "        vertical-align: top;\n",
       "    }\n",
       "\n",
       "    .dataframe thead th {\n",
       "        text-align: right;\n",
       "    }\n",
       "</style>\n",
       "<table border=\"1\" class=\"dataframe\">\n",
       "  <thead>\n",
       "    <tr style=\"text-align: right;\">\n",
       "      <th></th>\n",
       "      <th>Price</th>\n",
       "      <th>Age_08_04</th>\n",
       "      <th>KM</th>\n",
       "      <th>HP</th>\n",
       "      <th>Automatic</th>\n",
       "      <th>cc</th>\n",
       "      <th>Doors</th>\n",
       "      <th>Gears</th>\n",
       "      <th>Weight</th>\n",
       "    </tr>\n",
       "  </thead>\n",
       "  <tbody>\n",
       "    <tr>\n",
       "      <th>Price</th>\n",
       "      <td>1.000000</td>\n",
       "      <td>-0.876590</td>\n",
       "      <td>-0.569960</td>\n",
       "      <td>0.314990</td>\n",
       "      <td>0.033081</td>\n",
       "      <td>0.126389</td>\n",
       "      <td>0.185326</td>\n",
       "      <td>0.063104</td>\n",
       "      <td>0.581198</td>\n",
       "    </tr>\n",
       "    <tr>\n",
       "      <th>Age_08_04</th>\n",
       "      <td>-0.876590</td>\n",
       "      <td>1.000000</td>\n",
       "      <td>0.505672</td>\n",
       "      <td>-0.156622</td>\n",
       "      <td>0.031717</td>\n",
       "      <td>-0.098084</td>\n",
       "      <td>-0.148359</td>\n",
       "      <td>-0.005364</td>\n",
       "      <td>-0.470253</td>\n",
       "    </tr>\n",
       "    <tr>\n",
       "      <th>KM</th>\n",
       "      <td>-0.569960</td>\n",
       "      <td>0.505672</td>\n",
       "      <td>1.000000</td>\n",
       "      <td>-0.333538</td>\n",
       "      <td>-0.081854</td>\n",
       "      <td>0.102683</td>\n",
       "      <td>-0.036197</td>\n",
       "      <td>0.015023</td>\n",
       "      <td>-0.028598</td>\n",
       "    </tr>\n",
       "    <tr>\n",
       "      <th>HP</th>\n",
       "      <td>0.314990</td>\n",
       "      <td>-0.156622</td>\n",
       "      <td>-0.333538</td>\n",
       "      <td>1.000000</td>\n",
       "      <td>0.013144</td>\n",
       "      <td>0.035856</td>\n",
       "      <td>0.092424</td>\n",
       "      <td>0.209477</td>\n",
       "      <td>0.089614</td>\n",
       "    </tr>\n",
       "    <tr>\n",
       "      <th>Automatic</th>\n",
       "      <td>0.033081</td>\n",
       "      <td>0.031717</td>\n",
       "      <td>-0.081854</td>\n",
       "      <td>0.013144</td>\n",
       "      <td>1.000000</td>\n",
       "      <td>0.066740</td>\n",
       "      <td>-0.027654</td>\n",
       "      <td>-0.098555</td>\n",
       "      <td>0.057249</td>\n",
       "    </tr>\n",
       "    <tr>\n",
       "      <th>cc</th>\n",
       "      <td>0.126389</td>\n",
       "      <td>-0.098084</td>\n",
       "      <td>0.102683</td>\n",
       "      <td>0.035856</td>\n",
       "      <td>0.066740</td>\n",
       "      <td>1.000000</td>\n",
       "      <td>0.079903</td>\n",
       "      <td>0.014629</td>\n",
       "      <td>0.335637</td>\n",
       "    </tr>\n",
       "    <tr>\n",
       "      <th>Doors</th>\n",
       "      <td>0.185326</td>\n",
       "      <td>-0.148359</td>\n",
       "      <td>-0.036197</td>\n",
       "      <td>0.092424</td>\n",
       "      <td>-0.027654</td>\n",
       "      <td>0.079903</td>\n",
       "      <td>1.000000</td>\n",
       "      <td>-0.160141</td>\n",
       "      <td>0.302618</td>\n",
       "    </tr>\n",
       "    <tr>\n",
       "      <th>Gears</th>\n",
       "      <td>0.063104</td>\n",
       "      <td>-0.005364</td>\n",
       "      <td>0.015023</td>\n",
       "      <td>0.209477</td>\n",
       "      <td>-0.098555</td>\n",
       "      <td>0.014629</td>\n",
       "      <td>-0.160141</td>\n",
       "      <td>1.000000</td>\n",
       "      <td>0.020613</td>\n",
       "    </tr>\n",
       "    <tr>\n",
       "      <th>Weight</th>\n",
       "      <td>0.581198</td>\n",
       "      <td>-0.470253</td>\n",
       "      <td>-0.028598</td>\n",
       "      <td>0.089614</td>\n",
       "      <td>0.057249</td>\n",
       "      <td>0.335637</td>\n",
       "      <td>0.302618</td>\n",
       "      <td>0.020613</td>\n",
       "      <td>1.000000</td>\n",
       "    </tr>\n",
       "  </tbody>\n",
       "</table>\n",
       "</div>"
      ],
      "text/plain": [
       "              Price  Age_08_04        KM        HP  Automatic        cc  \\\n",
       "Price      1.000000  -0.876590 -0.569960  0.314990   0.033081  0.126389   \n",
       "Age_08_04 -0.876590   1.000000  0.505672 -0.156622   0.031717 -0.098084   \n",
       "KM        -0.569960   0.505672  1.000000 -0.333538  -0.081854  0.102683   \n",
       "HP         0.314990  -0.156622 -0.333538  1.000000   0.013144  0.035856   \n",
       "Automatic  0.033081   0.031717 -0.081854  0.013144   1.000000  0.066740   \n",
       "cc         0.126389  -0.098084  0.102683  0.035856   0.066740  1.000000   \n",
       "Doors      0.185326  -0.148359 -0.036197  0.092424  -0.027654  0.079903   \n",
       "Gears      0.063104  -0.005364  0.015023  0.209477  -0.098555  0.014629   \n",
       "Weight     0.581198  -0.470253 -0.028598  0.089614   0.057249  0.335637   \n",
       "\n",
       "              Doors     Gears    Weight  \n",
       "Price      0.185326  0.063104  0.581198  \n",
       "Age_08_04 -0.148359 -0.005364 -0.470253  \n",
       "KM        -0.036197  0.015023 -0.028598  \n",
       "HP         0.092424  0.209477  0.089614  \n",
       "Automatic -0.027654 -0.098555  0.057249  \n",
       "cc         0.079903  0.014629  0.335637  \n",
       "Doors      1.000000 -0.160141  0.302618  \n",
       "Gears     -0.160141  1.000000  0.020613  \n",
       "Weight     0.302618  0.020613  1.000000  "
      ]
     },
     "execution_count": 16,
     "metadata": {},
     "output_type": "execute_result"
    }
   ],
   "source": [
    "df.drop(df[['Fuel_Type']], axis =1).corr()"
   ]
  },
  {
   "cell_type": "code",
   "execution_count": 17,
   "metadata": {},
   "outputs": [
    {
     "data": {
      "image/png": "[encoded data removed]",
      "text/plain": [
       "<Figure size 640x480 with 2 Axes>"
      ]
     },
     "metadata": {},
     "output_type": "display_data"
    }
   ],
   "source": [
    "import seaborn as sns\n",
    "df1 = df.drop(df[['Fuel_Type']], axis = 1)\n",
    "sns.heatmap(df1.corr(), annot = True)\n",
    "plt.show()"
   ]
  },
  {
   "cell_type": "code",
   "execution_count": 18,
   "metadata": {},
   "outputs": [
    {
     "data": {
      "text/html": [
       "<div>\n",
       "<style scoped>\n",
       "    .dataframe tbody tr th:only-of-type {\n",
       "        vertical-align: middle;\n",
       "    }\n",
       "\n",
       "    .dataframe tbody tr th {\n",
       "        vertical-align: top;\n",
       "    }\n",
       "\n",
       "    .dataframe thead th {\n",
       "        text-align: right;\n",
       "    }\n",
       "</style>\n",
       "<table border=\"1\" class=\"dataframe\">\n",
       "  <thead>\n",
       "    <tr style=\"text-align: right;\">\n",
       "      <th></th>\n",
       "      <th>Fuel_Type</th>\n",
       "      <th>Automatic</th>\n",
       "      <th>Doors</th>\n",
       "      <th>Gears</th>\n",
       "    </tr>\n",
       "  </thead>\n",
       "  <tbody>\n",
       "    <tr>\n",
       "      <th>0</th>\n",
       "      <td>Diesel</td>\n",
       "      <td>0</td>\n",
       "      <td>3</td>\n",
       "      <td>5</td>\n",
       "    </tr>\n",
       "    <tr>\n",
       "      <th>1</th>\n",
       "      <td>Diesel</td>\n",
       "      <td>0</td>\n",
       "      <td>3</td>\n",
       "      <td>5</td>\n",
       "    </tr>\n",
       "    <tr>\n",
       "      <th>2</th>\n",
       "      <td>Diesel</td>\n",
       "      <td>0</td>\n",
       "      <td>3</td>\n",
       "      <td>5</td>\n",
       "    </tr>\n",
       "    <tr>\n",
       "      <th>3</th>\n",
       "      <td>Diesel</td>\n",
       "      <td>0</td>\n",
       "      <td>3</td>\n",
       "      <td>5</td>\n",
       "    </tr>\n",
       "    <tr>\n",
       "      <th>4</th>\n",
       "      <td>Diesel</td>\n",
       "      <td>0</td>\n",
       "      <td>3</td>\n",
       "      <td>5</td>\n",
       "    </tr>\n",
       "  </tbody>\n",
       "</table>\n",
       "</div>"
      ],
      "text/plain": [
       "  Fuel_Type  Automatic  Doors  Gears\n",
       "0    Diesel          0      3      5\n",
       "1    Diesel          0      3      5\n",
       "2    Diesel          0      3      5\n",
       "3    Diesel          0      3      5\n",
       "4    Diesel          0      3      5"
      ]
     },
     "execution_count": 18,
     "metadata": {},
     "output_type": "execute_result"
    }
   ],
   "source": [
    "df_cat = df[['Fuel_Type', 'Automatic', 'Doors', 'Gears']]\n",
    "df_cat.head()"
   ]
  },
  {
   "cell_type": "markdown",
   "metadata": {},
   "source": [
    "### 3. Data Transformation"
   ]
  },
  {
   "cell_type": "code",
   "execution_count": 19,
   "metadata": {},
   "outputs": [
    {
     "data": {
      "text/html": [
       "<div>\n",
       "<style scoped>\n",
       "    .dataframe tbody tr th:only-of-type {\n",
       "        vertical-align: middle;\n",
       "    }\n",
       "\n",
       "    .dataframe tbody tr th {\n",
       "        vertical-align: top;\n",
       "    }\n",
       "\n",
       "    .dataframe thead th {\n",
       "        text-align: right;\n",
       "    }\n",
       "</style>\n",
       "<table border=\"1\" class=\"dataframe\">\n",
       "  <thead>\n",
       "    <tr style=\"text-align: right;\">\n",
       "      <th></th>\n",
       "      <th>Age_08_04</th>\n",
       "      <th>KM</th>\n",
       "      <th>HP</th>\n",
       "      <th>cc</th>\n",
       "      <th>Weight</th>\n",
       "    </tr>\n",
       "  </thead>\n",
       "  <tbody>\n",
       "    <tr>\n",
       "      <th>0</th>\n",
       "      <td>0.229730</td>\n",
       "      <td>0.310544</td>\n",
       "      <td>0.446809</td>\n",
       "      <td>0.5</td>\n",
       "      <td>0.433333</td>\n",
       "    </tr>\n",
       "    <tr>\n",
       "      <th>1</th>\n",
       "      <td>0.229730</td>\n",
       "      <td>0.482065</td>\n",
       "      <td>0.446809</td>\n",
       "      <td>0.5</td>\n",
       "      <td>0.433333</td>\n",
       "    </tr>\n",
       "    <tr>\n",
       "      <th>2</th>\n",
       "      <td>0.243243</td>\n",
       "      <td>0.275679</td>\n",
       "      <td>0.446809</td>\n",
       "      <td>0.5</td>\n",
       "      <td>0.433333</td>\n",
       "    </tr>\n",
       "    <tr>\n",
       "      <th>3</th>\n",
       "      <td>0.270270</td>\n",
       "      <td>0.317246</td>\n",
       "      <td>0.446809</td>\n",
       "      <td>0.5</td>\n",
       "      <td>0.433333</td>\n",
       "    </tr>\n",
       "    <tr>\n",
       "      <th>4</th>\n",
       "      <td>0.324324</td>\n",
       "      <td>0.254456</td>\n",
       "      <td>0.446809</td>\n",
       "      <td>0.5</td>\n",
       "      <td>0.433333</td>\n",
       "    </tr>\n",
       "  </tbody>\n",
       "</table>\n",
       "</div>"
      ],
      "text/plain": [
       "   Age_08_04        KM        HP   cc    Weight\n",
       "0   0.229730  0.310544  0.446809  0.5  0.433333\n",
       "1   0.229730  0.482065  0.446809  0.5  0.433333\n",
       "2   0.243243  0.275679  0.446809  0.5  0.433333\n",
       "3   0.270270  0.317246  0.446809  0.5  0.433333\n",
       "4   0.324324  0.254456  0.446809  0.5  0.433333"
      ]
     },
     "execution_count": 19,
     "metadata": {},
     "output_type": "execute_result"
    }
   ],
   "source": [
    "# Standardization\n",
    "\n",
    "from sklearn.preprocessing import MinMaxScaler # type: ignore\n",
    "mm = MinMaxScaler()\n",
    "\n",
    "df_num = mm.fit_transform(X)\n",
    "df_num = pd.DataFrame(df_num)\n",
    "df_num.columns = list(X)\n",
    "df_num.head()"
   ]
  },
  {
   "cell_type": "code",
   "execution_count": 20,
   "metadata": {},
   "outputs": [
    {
     "name": "stderr",
     "output_type": "stream",
     "text": [
      "C:\\Users\\cs833\\AppData\\Roaming\\Python\\Python311\\site-packages\\sklearn\\preprocessing\\_label.py:114: DataConversionWarning: A column-vector y was passed when a 1d array was expected. Please change the shape of y to (n_samples, ), for example using ravel().\n",
      "  y = column_or_1d(y, warn=True)\n",
      "C:\\Users\\cs833\\AppData\\Local\\Temp\\ipykernel_5708\\4068625067.py:6: SettingWithCopyWarning: \n",
      "A value is trying to be set on a copy of a slice from a DataFrame.\n",
      "Try using .loc[row_indexer,col_indexer] = value instead\n",
      "\n",
      "See the caveats in the documentation: https://pandas.pydata.org/pandas-docs/stable/user_guide/indexing.html#returning-a-view-versus-a-copy\n",
      "  df_cat['Fuel_Type'] = LE.fit_transform(df_cat[['Fuel_Type']])\n",
      "C:\\Users\\cs833\\AppData\\Roaming\\Python\\Python311\\site-packages\\sklearn\\preprocessing\\_label.py:114: DataConversionWarning: A column-vector y was passed when a 1d array was expected. Please change the shape of y to (n_samples, ), for example using ravel().\n",
      "  y = column_or_1d(y, warn=True)\n",
      "C:\\Users\\cs833\\AppData\\Local\\Temp\\ipykernel_5708\\4068625067.py:7: SettingWithCopyWarning: \n",
      "A value is trying to be set on a copy of a slice from a DataFrame.\n",
      "Try using .loc[row_indexer,col_indexer] = value instead\n",
      "\n",
      "See the caveats in the documentation: https://pandas.pydata.org/pandas-docs/stable/user_guide/indexing.html#returning-a-view-versus-a-copy\n",
      "  df_cat['Automatic'] = LE.fit_transform(df_cat[['Automatic']])\n",
      "C:\\Users\\cs833\\AppData\\Roaming\\Python\\Python311\\site-packages\\sklearn\\preprocessing\\_label.py:114: DataConversionWarning: A column-vector y was passed when a 1d array was expected. Please change the shape of y to (n_samples, ), for example using ravel().\n",
      "  y = column_or_1d(y, warn=True)\n",
      "C:\\Users\\cs833\\AppData\\Local\\Temp\\ipykernel_5708\\4068625067.py:8: SettingWithCopyWarning: \n",
      "A value is trying to be set on a copy of a slice from a DataFrame.\n",
      "Try using .loc[row_indexer,col_indexer] = value instead\n",
      "\n",
      "See the caveats in the documentation: https://pandas.pydata.org/pandas-docs/stable/user_guide/indexing.html#returning-a-view-versus-a-copy\n",
      "  df_cat['Doors'] = LE.fit_transform(df_cat[['Doors']])\n",
      "C:\\Users\\cs833\\AppData\\Roaming\\Python\\Python311\\site-packages\\sklearn\\preprocessing\\_label.py:114: DataConversionWarning: A column-vector y was passed when a 1d array was expected. Please change the shape of y to (n_samples, ), for example using ravel().\n",
      "  y = column_or_1d(y, warn=True)\n",
      "C:\\Users\\cs833\\AppData\\Local\\Temp\\ipykernel_5708\\4068625067.py:9: SettingWithCopyWarning: \n",
      "A value is trying to be set on a copy of a slice from a DataFrame.\n",
      "Try using .loc[row_indexer,col_indexer] = value instead\n",
      "\n",
      "See the caveats in the documentation: https://pandas.pydata.org/pandas-docs/stable/user_guide/indexing.html#returning-a-view-versus-a-copy\n",
      "  df_cat['Gears'] = LE.fit_transform(df_cat[['Gears']])\n"
     ]
    },
    {
     "data": {
      "text/html": [
       "<div>\n",
       "<style scoped>\n",
       "    .dataframe tbody tr th:only-of-type {\n",
       "        vertical-align: middle;\n",
       "    }\n",
       "\n",
       "    .dataframe tbody tr th {\n",
       "        vertical-align: top;\n",
       "    }\n",
       "\n",
       "    .dataframe thead th {\n",
       "        text-align: right;\n",
       "    }\n",
       "</style>\n",
       "<table border=\"1\" class=\"dataframe\">\n",
       "  <thead>\n",
       "    <tr style=\"text-align: right;\">\n",
       "      <th></th>\n",
       "      <th>Fuel_Type</th>\n",
       "      <th>Automatic</th>\n",
       "      <th>Doors</th>\n",
       "      <th>Gears</th>\n",
       "    </tr>\n",
       "  </thead>\n",
       "  <tbody>\n",
       "    <tr>\n",
       "      <th>0</th>\n",
       "      <td>1</td>\n",
       "      <td>0</td>\n",
       "      <td>1</td>\n",
       "      <td>2</td>\n",
       "    </tr>\n",
       "    <tr>\n",
       "      <th>1</th>\n",
       "      <td>1</td>\n",
       "      <td>0</td>\n",
       "      <td>1</td>\n",
       "      <td>2</td>\n",
       "    </tr>\n",
       "    <tr>\n",
       "      <th>2</th>\n",
       "      <td>1</td>\n",
       "      <td>0</td>\n",
       "      <td>1</td>\n",
       "      <td>2</td>\n",
       "    </tr>\n",
       "    <tr>\n",
       "      <th>3</th>\n",
       "      <td>1</td>\n",
       "      <td>0</td>\n",
       "      <td>1</td>\n",
       "      <td>2</td>\n",
       "    </tr>\n",
       "    <tr>\n",
       "      <th>4</th>\n",
       "      <td>1</td>\n",
       "      <td>0</td>\n",
       "      <td>1</td>\n",
       "      <td>2</td>\n",
       "    </tr>\n",
       "  </tbody>\n",
       "</table>\n",
       "</div>"
      ],
      "text/plain": [
       "   Fuel_Type  Automatic  Doors  Gears\n",
       "0          1          0      1      2\n",
       "1          1          0      1      2\n",
       "2          1          0      1      2\n",
       "3          1          0      1      2\n",
       "4          1          0      1      2"
      ]
     },
     "execution_count": 20,
     "metadata": {},
     "output_type": "execute_result"
    }
   ],
   "source": [
    "# Label Encoding\n",
    "\n",
    "from sklearn.preprocessing import LabelEncoder # type: ignore\n",
    "LE = LabelEncoder()\n",
    "\n",
    "df_cat['Fuel_Type'] = LE.fit_transform(df_cat[['Fuel_Type']])\n",
    "df_cat['Automatic'] = LE.fit_transform(df_cat[['Automatic']])\n",
    "df_cat['Doors'] = LE.fit_transform(df_cat[['Doors']])\n",
    "df_cat['Gears'] = LE.fit_transform(df_cat[['Gears']])\n",
    "df_cat.head()"
   ]
  },
  {
   "cell_type": "code",
   "execution_count": 21,
   "metadata": {},
   "outputs": [
    {
     "data": {
      "text/html": [
       "<div>\n",
       "<style scoped>\n",
       "    .dataframe tbody tr th:only-of-type {\n",
       "        vertical-align: middle;\n",
       "    }\n",
       "\n",
       "    .dataframe tbody tr th {\n",
       "        vertical-align: top;\n",
       "    }\n",
       "\n",
       "    .dataframe thead th {\n",
       "        text-align: right;\n",
       "    }\n",
       "</style>\n",
       "<table border=\"1\" class=\"dataframe\">\n",
       "  <thead>\n",
       "    <tr style=\"text-align: right;\">\n",
       "      <th></th>\n",
       "      <th>Age_08_04</th>\n",
       "      <th>KM</th>\n",
       "      <th>HP</th>\n",
       "      <th>cc</th>\n",
       "      <th>Weight</th>\n",
       "      <th>Fuel_Type</th>\n",
       "      <th>Automatic</th>\n",
       "      <th>Doors</th>\n",
       "      <th>Gears</th>\n",
       "    </tr>\n",
       "  </thead>\n",
       "  <tbody>\n",
       "    <tr>\n",
       "      <th>0</th>\n",
       "      <td>0.229730</td>\n",
       "      <td>0.310544</td>\n",
       "      <td>0.446809</td>\n",
       "      <td>0.5</td>\n",
       "      <td>0.433333</td>\n",
       "      <td>1</td>\n",
       "      <td>0</td>\n",
       "      <td>1</td>\n",
       "      <td>2</td>\n",
       "    </tr>\n",
       "    <tr>\n",
       "      <th>1</th>\n",
       "      <td>0.229730</td>\n",
       "      <td>0.482065</td>\n",
       "      <td>0.446809</td>\n",
       "      <td>0.5</td>\n",
       "      <td>0.433333</td>\n",
       "      <td>1</td>\n",
       "      <td>0</td>\n",
       "      <td>1</td>\n",
       "      <td>2</td>\n",
       "    </tr>\n",
       "    <tr>\n",
       "      <th>2</th>\n",
       "      <td>0.243243</td>\n",
       "      <td>0.275679</td>\n",
       "      <td>0.446809</td>\n",
       "      <td>0.5</td>\n",
       "      <td>0.433333</td>\n",
       "      <td>1</td>\n",
       "      <td>0</td>\n",
       "      <td>1</td>\n",
       "      <td>2</td>\n",
       "    </tr>\n",
       "    <tr>\n",
       "      <th>3</th>\n",
       "      <td>0.270270</td>\n",
       "      <td>0.317246</td>\n",
       "      <td>0.446809</td>\n",
       "      <td>0.5</td>\n",
       "      <td>0.433333</td>\n",
       "      <td>1</td>\n",
       "      <td>0</td>\n",
       "      <td>1</td>\n",
       "      <td>2</td>\n",
       "    </tr>\n",
       "    <tr>\n",
       "      <th>4</th>\n",
       "      <td>0.324324</td>\n",
       "      <td>0.254456</td>\n",
       "      <td>0.446809</td>\n",
       "      <td>0.5</td>\n",
       "      <td>0.433333</td>\n",
       "      <td>1</td>\n",
       "      <td>0</td>\n",
       "      <td>1</td>\n",
       "      <td>2</td>\n",
       "    </tr>\n",
       "  </tbody>\n",
       "</table>\n",
       "</div>"
      ],
      "text/plain": [
       "   Age_08_04        KM        HP   cc    Weight  Fuel_Type  Automatic  Doors  \\\n",
       "0   0.229730  0.310544  0.446809  0.5  0.433333          1          0      1   \n",
       "1   0.229730  0.482065  0.446809  0.5  0.433333          1          0      1   \n",
       "2   0.243243  0.275679  0.446809  0.5  0.433333          1          0      1   \n",
       "3   0.270270  0.317246  0.446809  0.5  0.433333          1          0      1   \n",
       "4   0.324324  0.254456  0.446809  0.5  0.433333          1          0      1   \n",
       "\n",
       "   Gears  \n",
       "0      2  \n",
       "1      2  \n",
       "2      2  \n",
       "3      2  \n",
       "4      2  "
      ]
     },
     "execution_count": 21,
     "metadata": {},
     "output_type": "execute_result"
    }
   ],
   "source": [
    "X = pd.concat([df_num, df_cat], axis = 1)\n",
    "X.head()"
   ]
  },
  {
   "cell_type": "code",
   "execution_count": 22,
   "metadata": {},
   "outputs": [
    {
     "data": {
      "text/plain": [
       "(1436, 1)"
      ]
     },
     "execution_count": 22,
     "metadata": {},
     "output_type": "execute_result"
    }
   ],
   "source": [
    "Y = df[['Price']]\n",
    "Y.shape"
   ]
  },
  {
   "cell_type": "markdown",
   "metadata": {},
   "source": [
    "### 4. Data Partition"
   ]
  },
  {
   "cell_type": "code",
   "execution_count": 23,
   "metadata": {},
   "outputs": [],
   "source": [
    "from sklearn.model_selection import train_test_split # type: ignore\n",
    "X_train, X_test, Y_train, Y_test = train_test_split(X, Y, test_size=0.2, random_state=1)"
   ]
  },
  {
   "cell_type": "markdown",
   "metadata": {},
   "source": [
    "### 5. Model Fitting"
   ]
  },
  {
   "cell_type": "code",
   "execution_count": 24,
   "metadata": {},
   "outputs": [
    {
     "data": {
      "text/plain": [
       "array([-9961.63879682, -3460.54059803,  2421.98603668, -1204.01866725,\n",
       "        1771.90351409,  -742.08056927,   675.52249551,   115.71275983,\n",
       "        1312.990019  ])"
      ]
     },
     "execution_count": 24,
     "metadata": {},
     "output_type": "execute_result"
    }
   ],
   "source": [
    "from sklearn.linear_model import LinearRegression # type: ignore\n",
    "model = LinearRegression()\n",
    "model.fit(X_train, Y_train)\n",
    "\n",
    "Y_pred_train = model.predict(X_train)\n",
    "Y_pred_test = model.predict(X_test)\n",
    "LR_coef = model.coef_.ravel()\n",
    "LR_coef"
   ]
  },
  {
   "cell_type": "code",
   "execution_count": 25,
   "metadata": {},
   "outputs": [
    {
     "name": "stdout",
     "output_type": "stream",
     "text": [
      "Training error: 1783.469\n",
      "Testing error: 1864.721\n",
      "Training R squared value: 0.754\n",
      "Testing R squared value: 0.753\n"
     ]
    }
   ],
   "source": [
    "# metrics\n",
    "\n",
    "from sklearn.metrics import mean_squared_error, r2_score # type: ignore\n",
    "\n",
    "print('Training error:', mean_squared_error(Y_train, Y_pred_train, squared=False).round(3))\n",
    "print('Testing error:', mean_squared_error(Y_test, Y_pred_test, squared=False).round(3))\n",
    "print('Training R squared value:', r2_score(Y_train, Y_pred_train).round(3))\n",
    "print('Testing R squared value:', r2_score(Y_test, Y_pred_test).round(3))"
   ]
  },
  {
   "cell_type": "markdown",
   "metadata": {},
   "source": [
    "By considering all X variables, we obtain the training and testing R-square values as 75.4% and 75.3%."
   ]
  },
  {
   "cell_type": "markdown",
   "metadata": {},
   "source": [
    "### 6. Data Validation"
   ]
  },
  {
   "cell_type": "code",
   "execution_count": 26,
   "metadata": {},
   "outputs": [
    {
     "name": "stdout",
     "output_type": "stream",
     "text": [
      "Cross Validation - Training error 1789.34\n",
      "Cross Validation - Testing error 1826.408\n"
     ]
    }
   ],
   "source": [
    "# Cross validation\n",
    "\n",
    "training_err = []\n",
    "test_err = []\n",
    "\n",
    "for i in range(1, 200):\n",
    "    from sklearn.model_selection import train_test_split # type: ignore\n",
    "    X_train, X_test, Y_train, Y_test = train_test_split(X, Y, test_size = 0.2, random_state=i)\n",
    "    model.fit(X_train, Y_train)\n",
    "    Y_pred_train = model.predict(X_train)\n",
    "    Y_pred_test = model.predict(X_test)\n",
    "    training_err.append(mean_squared_error(Y_train, Y_pred_train, squared=False))\n",
    "    test_err.append(mean_squared_error(Y_test, Y_pred_test, squared=False))\n",
    "\n",
    "import numpy as np # type: ignore\n",
    "print('Cross Validation - Training error', np.mean(training_err).round(3))\n",
    "print('Cross Validation - Testing error', np.mean(test_err).round(3))\n"
   ]
  },
  {
   "cell_type": "markdown",
   "metadata": {},
   "source": [
    "1. The average training error of the model is 1789.34.\n",
    "2. The average testing error of the model is 1826.408."
   ]
  },
  {
   "cell_type": "markdown",
   "metadata": {},
   "source": [
    "#### Ridge Regression"
   ]
  },
  {
   "cell_type": "code",
   "execution_count": 27,
   "metadata": {},
   "outputs": [
    {
     "data": {
      "text/html": [
       "<div>\n",
       "<style scoped>\n",
       "    .dataframe tbody tr th:only-of-type {\n",
       "        vertical-align: middle;\n",
       "    }\n",
       "\n",
       "    .dataframe tbody tr th {\n",
       "        vertical-align: top;\n",
       "    }\n",
       "\n",
       "    .dataframe thead th {\n",
       "        text-align: right;\n",
       "    }\n",
       "</style>\n",
       "<table border=\"1\" class=\"dataframe\">\n",
       "  <thead>\n",
       "    <tr style=\"text-align: right;\">\n",
       "      <th></th>\n",
       "      <th>0</th>\n",
       "      <th>0</th>\n",
       "      <th>0</th>\n",
       "    </tr>\n",
       "  </thead>\n",
       "  <tbody>\n",
       "    <tr>\n",
       "      <th>0</th>\n",
       "      <td>Age_08_04</td>\n",
       "      <td>-9961.638797</td>\n",
       "      <td>-24.763460</td>\n",
       "    </tr>\n",
       "    <tr>\n",
       "      <th>1</th>\n",
       "      <td>KM</td>\n",
       "      <td>-3460.540598</td>\n",
       "      <td>-14.294862</td>\n",
       "    </tr>\n",
       "    <tr>\n",
       "      <th>2</th>\n",
       "      <td>HP</td>\n",
       "      <td>2421.986037</td>\n",
       "      <td>7.581887</td>\n",
       "    </tr>\n",
       "    <tr>\n",
       "      <th>3</th>\n",
       "      <td>cc</td>\n",
       "      <td>-1204.018667</td>\n",
       "      <td>4.329908</td>\n",
       "    </tr>\n",
       "    <tr>\n",
       "      <th>4</th>\n",
       "      <td>Weight</td>\n",
       "      <td>1771.903514</td>\n",
       "      <td>9.303740</td>\n",
       "    </tr>\n",
       "    <tr>\n",
       "      <th>5</th>\n",
       "      <td>Fuel_Type</td>\n",
       "      <td>-742.080569</td>\n",
       "      <td>-0.876023</td>\n",
       "    </tr>\n",
       "    <tr>\n",
       "      <th>6</th>\n",
       "      <td>Automatic</td>\n",
       "      <td>675.522496</td>\n",
       "      <td>0.774829</td>\n",
       "    </tr>\n",
       "    <tr>\n",
       "      <th>7</th>\n",
       "      <td>Doors</td>\n",
       "      <td>115.712760</td>\n",
       "      <td>24.086722</td>\n",
       "    </tr>\n",
       "    <tr>\n",
       "      <th>8</th>\n",
       "      <td>Gears</td>\n",
       "      <td>1312.990019</td>\n",
       "      <td>1.526355</td>\n",
       "    </tr>\n",
       "  </tbody>\n",
       "</table>\n",
       "</div>"
      ],
      "text/plain": [
       "           0            0          0\n",
       "0  Age_08_04 -9961.638797 -24.763460\n",
       "1         KM -3460.540598 -14.294862\n",
       "2         HP  2421.986037   7.581887\n",
       "3         cc -1204.018667   4.329908\n",
       "4     Weight  1771.903514   9.303740\n",
       "5  Fuel_Type  -742.080569  -0.876023\n",
       "6  Automatic   675.522496   0.774829\n",
       "7      Doors   115.712760  24.086722\n",
       "8      Gears  1312.990019   1.526355"
      ]
     },
     "execution_count": 27,
     "metadata": {},
     "output_type": "execute_result"
    }
   ],
   "source": [
    "# Ridge Regression\n",
    "\n",
    "LR_coef\n",
    "\n",
    "from sklearn.linear_model import Ridge # type: ignore\n",
    "model = Ridge(alpha = 35000)\n",
    "\n",
    "model.fit(X_train, Y_train)\n",
    "\n",
    "\n",
    "Ridge_coeff = model.coef_.ravel()\n",
    "\n",
    "coeff = pd.concat([pd.DataFrame(list(X)), pd.DataFrame(LR_coef), pd.DataFrame(Ridge_coeff)], axis = 1)\n",
    "coeff"
   ]
  },
  {
   "cell_type": "code",
   "execution_count": 28,
   "metadata": {},
   "outputs": [
    {
     "name": "stdout",
     "output_type": "stream",
     "text": [
      "Cross validation - Training error: 1815.17\n",
      "Cross validation - Test error: 1815.77\n"
     ]
    }
   ],
   "source": [
    "X_new = X.drop(X.columns[[5, 6]], axis = 1)\n",
    "X_new\n",
    "\n",
    "# Cross Validation\n",
    "training_err = []\n",
    "test_err = []\n",
    "\n",
    "for i in range(1,101):\n",
    "    X_train,X_test,Y_train,Y_test = train_test_split(X_new,Y, test_size=0.25,random_state=i)\n",
    "    lr = LinearRegression()\n",
    "    lr.fit(X_train,Y_train)\n",
    "    Y_pred_train = lr.predict(X_train)\n",
    "    Y_pred_test  = lr.predict(X_test)\n",
    "    training_err.append(mean_squared_error(Y_train,Y_pred_train,squared=False))\n",
    "    test_err.append(mean_squared_error(Y_test,Y_pred_test,squared=False))\n",
    "\n",
    "import numpy as np # type: ignore\n",
    "print(\"Cross validation - Training error:\" ,np.mean(training_err).round(2))\n",
    "print(\"Cross validation - Test error:\" ,np.mean(test_err).round(2))"
   ]
  },
  {
   "cell_type": "code",
   "execution_count": 29,
   "metadata": {},
   "outputs": [
    {
     "data": {
      "text/html": [
       "<div>\n",
       "<style scoped>\n",
       "    .dataframe tbody tr th:only-of-type {\n",
       "        vertical-align: middle;\n",
       "    }\n",
       "\n",
       "    .dataframe tbody tr th {\n",
       "        vertical-align: top;\n",
       "    }\n",
       "\n",
       "    .dataframe thead th {\n",
       "        text-align: right;\n",
       "    }\n",
       "</style>\n",
       "<table border=\"1\" class=\"dataframe\">\n",
       "  <thead>\n",
       "    <tr style=\"text-align: right;\">\n",
       "      <th></th>\n",
       "      <th>Age_08_04</th>\n",
       "      <th>KM</th>\n",
       "      <th>HP</th>\n",
       "      <th>cc</th>\n",
       "      <th>Weight</th>\n",
       "      <th>Fuel_Type</th>\n",
       "      <th>Automatic</th>\n",
       "      <th>Doors</th>\n",
       "      <th>Gears</th>\n",
       "    </tr>\n",
       "  </thead>\n",
       "  <tbody>\n",
       "    <tr>\n",
       "      <th>0</th>\n",
       "      <td>0.229730</td>\n",
       "      <td>0.310544</td>\n",
       "      <td>0.446809</td>\n",
       "      <td>0.5</td>\n",
       "      <td>0.433333</td>\n",
       "      <td>1</td>\n",
       "      <td>0</td>\n",
       "      <td>1</td>\n",
       "      <td>2</td>\n",
       "    </tr>\n",
       "    <tr>\n",
       "      <th>1</th>\n",
       "      <td>0.229730</td>\n",
       "      <td>0.482065</td>\n",
       "      <td>0.446809</td>\n",
       "      <td>0.5</td>\n",
       "      <td>0.433333</td>\n",
       "      <td>1</td>\n",
       "      <td>0</td>\n",
       "      <td>1</td>\n",
       "      <td>2</td>\n",
       "    </tr>\n",
       "    <tr>\n",
       "      <th>2</th>\n",
       "      <td>0.243243</td>\n",
       "      <td>0.275679</td>\n",
       "      <td>0.446809</td>\n",
       "      <td>0.5</td>\n",
       "      <td>0.433333</td>\n",
       "      <td>1</td>\n",
       "      <td>0</td>\n",
       "      <td>1</td>\n",
       "      <td>2</td>\n",
       "    </tr>\n",
       "    <tr>\n",
       "      <th>3</th>\n",
       "      <td>0.270270</td>\n",
       "      <td>0.317246</td>\n",
       "      <td>0.446809</td>\n",
       "      <td>0.5</td>\n",
       "      <td>0.433333</td>\n",
       "      <td>1</td>\n",
       "      <td>0</td>\n",
       "      <td>1</td>\n",
       "      <td>2</td>\n",
       "    </tr>\n",
       "    <tr>\n",
       "      <th>4</th>\n",
       "      <td>0.324324</td>\n",
       "      <td>0.254456</td>\n",
       "      <td>0.446809</td>\n",
       "      <td>0.5</td>\n",
       "      <td>0.433333</td>\n",
       "      <td>1</td>\n",
       "      <td>0</td>\n",
       "      <td>1</td>\n",
       "      <td>2</td>\n",
       "    </tr>\n",
       "  </tbody>\n",
       "</table>\n",
       "</div>"
      ],
      "text/plain": [
       "   Age_08_04        KM        HP   cc    Weight  Fuel_Type  Automatic  Doors  \\\n",
       "0   0.229730  0.310544  0.446809  0.5  0.433333          1          0      1   \n",
       "1   0.229730  0.482065  0.446809  0.5  0.433333          1          0      1   \n",
       "2   0.243243  0.275679  0.446809  0.5  0.433333          1          0      1   \n",
       "3   0.270270  0.317246  0.446809  0.5  0.433333          1          0      1   \n",
       "4   0.324324  0.254456  0.446809  0.5  0.433333          1          0      1   \n",
       "\n",
       "   Gears  \n",
       "0      2  \n",
       "1      2  \n",
       "2      2  \n",
       "3      2  \n",
       "4      2  "
      ]
     },
     "execution_count": 29,
     "metadata": {},
     "output_type": "execute_result"
    }
   ],
   "source": [
    "X.head()"
   ]
  },
  {
   "cell_type": "code",
   "execution_count": 30,
   "metadata": {},
   "outputs": [
    {
     "data": {
      "text/html": [
       "<div>\n",
       "<style scoped>\n",
       "    .dataframe tbody tr th:only-of-type {\n",
       "        vertical-align: middle;\n",
       "    }\n",
       "\n",
       "    .dataframe tbody tr th {\n",
       "        vertical-align: top;\n",
       "    }\n",
       "\n",
       "    .dataframe thead th {\n",
       "        text-align: right;\n",
       "    }\n",
       "</style>\n",
       "<table border=\"1\" class=\"dataframe\">\n",
       "  <thead>\n",
       "    <tr style=\"text-align: right;\">\n",
       "      <th></th>\n",
       "      <th>Age_08_04</th>\n",
       "      <th>KM</th>\n",
       "      <th>HP</th>\n",
       "      <th>cc</th>\n",
       "      <th>Weight</th>\n",
       "      <th>Automatic</th>\n",
       "      <th>Doors</th>\n",
       "      <th>Gears</th>\n",
       "    </tr>\n",
       "  </thead>\n",
       "  <tbody>\n",
       "    <tr>\n",
       "      <th>0</th>\n",
       "      <td>0.229730</td>\n",
       "      <td>0.310544</td>\n",
       "      <td>0.446809</td>\n",
       "      <td>0.5</td>\n",
       "      <td>0.433333</td>\n",
       "      <td>0</td>\n",
       "      <td>1</td>\n",
       "      <td>2</td>\n",
       "    </tr>\n",
       "    <tr>\n",
       "      <th>1</th>\n",
       "      <td>0.229730</td>\n",
       "      <td>0.482065</td>\n",
       "      <td>0.446809</td>\n",
       "      <td>0.5</td>\n",
       "      <td>0.433333</td>\n",
       "      <td>0</td>\n",
       "      <td>1</td>\n",
       "      <td>2</td>\n",
       "    </tr>\n",
       "    <tr>\n",
       "      <th>2</th>\n",
       "      <td>0.243243</td>\n",
       "      <td>0.275679</td>\n",
       "      <td>0.446809</td>\n",
       "      <td>0.5</td>\n",
       "      <td>0.433333</td>\n",
       "      <td>0</td>\n",
       "      <td>1</td>\n",
       "      <td>2</td>\n",
       "    </tr>\n",
       "    <tr>\n",
       "      <th>3</th>\n",
       "      <td>0.270270</td>\n",
       "      <td>0.317246</td>\n",
       "      <td>0.446809</td>\n",
       "      <td>0.5</td>\n",
       "      <td>0.433333</td>\n",
       "      <td>0</td>\n",
       "      <td>1</td>\n",
       "      <td>2</td>\n",
       "    </tr>\n",
       "    <tr>\n",
       "      <th>4</th>\n",
       "      <td>0.324324</td>\n",
       "      <td>0.254456</td>\n",
       "      <td>0.446809</td>\n",
       "      <td>0.5</td>\n",
       "      <td>0.433333</td>\n",
       "      <td>0</td>\n",
       "      <td>1</td>\n",
       "      <td>2</td>\n",
       "    </tr>\n",
       "  </tbody>\n",
       "</table>\n",
       "</div>"
      ],
      "text/plain": [
       "   Age_08_04        KM        HP   cc    Weight  Automatic  Doors  Gears\n",
       "0   0.229730  0.310544  0.446809  0.5  0.433333          0      1      2\n",
       "1   0.229730  0.482065  0.446809  0.5  0.433333          0      1      2\n",
       "2   0.243243  0.275679  0.446809  0.5  0.433333          0      1      2\n",
       "3   0.270270  0.317246  0.446809  0.5  0.433333          0      1      2\n",
       "4   0.324324  0.254456  0.446809  0.5  0.433333          0      1      2"
      ]
     },
     "execution_count": 30,
     "metadata": {},
     "output_type": "execute_result"
    }
   ],
   "source": [
    "X1_new = X.drop(X.columns[[5]], axis = 1)\n",
    "X1_new.head() # model-2"
   ]
  },
  {
   "cell_type": "code",
   "execution_count": 31,
   "metadata": {},
   "outputs": [
    {
     "data": {
      "text/html": [
       "<div>\n",
       "<style scoped>\n",
       "    .dataframe tbody tr th:only-of-type {\n",
       "        vertical-align: middle;\n",
       "    }\n",
       "\n",
       "    .dataframe tbody tr th {\n",
       "        vertical-align: top;\n",
       "    }\n",
       "\n",
       "    .dataframe thead th {\n",
       "        text-align: right;\n",
       "    }\n",
       "</style>\n",
       "<table border=\"1\" class=\"dataframe\">\n",
       "  <thead>\n",
       "    <tr style=\"text-align: right;\">\n",
       "      <th></th>\n",
       "      <th>Age_08_04</th>\n",
       "      <th>KM</th>\n",
       "      <th>HP</th>\n",
       "      <th>cc</th>\n",
       "      <th>Weight</th>\n",
       "      <th>Doors</th>\n",
       "      <th>Gears</th>\n",
       "    </tr>\n",
       "  </thead>\n",
       "  <tbody>\n",
       "    <tr>\n",
       "      <th>0</th>\n",
       "      <td>0.229730</td>\n",
       "      <td>0.310544</td>\n",
       "      <td>0.446809</td>\n",
       "      <td>0.5</td>\n",
       "      <td>0.433333</td>\n",
       "      <td>1</td>\n",
       "      <td>2</td>\n",
       "    </tr>\n",
       "    <tr>\n",
       "      <th>1</th>\n",
       "      <td>0.229730</td>\n",
       "      <td>0.482065</td>\n",
       "      <td>0.446809</td>\n",
       "      <td>0.5</td>\n",
       "      <td>0.433333</td>\n",
       "      <td>1</td>\n",
       "      <td>2</td>\n",
       "    </tr>\n",
       "    <tr>\n",
       "      <th>2</th>\n",
       "      <td>0.243243</td>\n",
       "      <td>0.275679</td>\n",
       "      <td>0.446809</td>\n",
       "      <td>0.5</td>\n",
       "      <td>0.433333</td>\n",
       "      <td>1</td>\n",
       "      <td>2</td>\n",
       "    </tr>\n",
       "    <tr>\n",
       "      <th>3</th>\n",
       "      <td>0.270270</td>\n",
       "      <td>0.317246</td>\n",
       "      <td>0.446809</td>\n",
       "      <td>0.5</td>\n",
       "      <td>0.433333</td>\n",
       "      <td>1</td>\n",
       "      <td>2</td>\n",
       "    </tr>\n",
       "    <tr>\n",
       "      <th>4</th>\n",
       "      <td>0.324324</td>\n",
       "      <td>0.254456</td>\n",
       "      <td>0.446809</td>\n",
       "      <td>0.5</td>\n",
       "      <td>0.433333</td>\n",
       "      <td>1</td>\n",
       "      <td>2</td>\n",
       "    </tr>\n",
       "  </tbody>\n",
       "</table>\n",
       "</div>"
      ],
      "text/plain": [
       "   Age_08_04        KM        HP   cc    Weight  Doors  Gears\n",
       "0   0.229730  0.310544  0.446809  0.5  0.433333      1      2\n",
       "1   0.229730  0.482065  0.446809  0.5  0.433333      1      2\n",
       "2   0.243243  0.275679  0.446809  0.5  0.433333      1      2\n",
       "3   0.270270  0.317246  0.446809  0.5  0.433333      1      2\n",
       "4   0.324324  0.254456  0.446809  0.5  0.433333      1      2"
      ]
     },
     "execution_count": 31,
     "metadata": {},
     "output_type": "execute_result"
    }
   ],
   "source": [
    "X2_new = X.drop(X.columns[[5, 6]], axis = 1)\n",
    "X2_new.head() # model-3"
   ]
  },
  {
   "cell_type": "markdown",
   "metadata": {},
   "source": [
    "#### Ridge model - 1 "
   ]
  },
  {
   "cell_type": "code",
   "execution_count": 32,
   "metadata": {},
   "outputs": [],
   "source": [
    "# Finalized model\n",
    "\n",
    "from sklearn.model_selection import train_test_split # type: ignore\n",
    "X_train, X_test, Y_train, Y_test = train_test_split(X, Y, test_size = 0.2, random_state=10)\n",
    "\n",
    "# Fit the model\n",
    "from sklearn.linear_model import LinearRegression # type: ignore\n",
    "LR = LinearRegression()\n",
    "LR.fit(X_train, Y_train)\n",
    "\n",
    "Y_pred_train = LR.predict(X_train)\n",
    "Y_pred_test = LR.predict(X_test)"
   ]
  },
  {
   "cell_type": "code",
   "execution_count": 33,
   "metadata": {},
   "outputs": [
    {
     "name": "stdout",
     "output_type": "stream",
     "text": [
      "Training error: 1744.466\n",
      "Testing error: 2015.101\n",
      "Training R squared value: 0.761\n",
      "Testing R squared value: 0.723\n"
     ]
    }
   ],
   "source": [
    "# Metrics\n",
    "from sklearn.metrics import mean_squared_error, r2_score # type: ignore\n",
    "\n",
    "print('Training error:', mean_squared_error(Y_train, Y_pred_train, squared=False).round(3))\n",
    "print('Testing error:', mean_squared_error(Y_test, Y_pred_test, squared=False).round(3))\n",
    "print('Training R squared value:', r2_score(Y_train, Y_pred_train).round(3))\n",
    "print('Testing R squared value:', r2_score(Y_test, Y_pred_test).round(3))"
   ]
  },
  {
   "cell_type": "markdown",
   "metadata": {},
   "source": [
    "#### Ridge model - 2"
   ]
  },
  {
   "cell_type": "code",
   "execution_count": 34,
   "metadata": {},
   "outputs": [],
   "source": [
    "# Finalized model\n",
    "\n",
    "from sklearn.model_selection import train_test_split # type: ignore\n",
    "X_train, X_test, Y_train, Y_test = train_test_split(X1_new, Y, test_size = 0.2, random_state=10)\n",
    "\n",
    "# Fit the model\n",
    "from sklearn.linear_model import LinearRegression # type: ignore\n",
    "LR = LinearRegression()\n",
    "LR.fit(X_train, Y_train)\n",
    "\n",
    "Y_pred_train1 = LR.predict(X_train)\n",
    "Y_pred_test1 = LR.predict(X_test)"
   ]
  },
  {
   "cell_type": "code",
   "execution_count": 35,
   "metadata": {},
   "outputs": [
    {
     "name": "stdout",
     "output_type": "stream",
     "text": [
      "Training error: 1749.96\n",
      "Testing error: 2051.771\n",
      "Training R squared value: 0.76\n",
      "Testing R squared value: 0.713\n"
     ]
    }
   ],
   "source": [
    "# Metrics\n",
    "from sklearn.metrics import mean_squared_error, r2_score # type: ignore\n",
    "\n",
    "print('Training error:', mean_squared_error(Y_train, Y_pred_train1, squared=False).round(3))\n",
    "print('Testing error:', mean_squared_error(Y_test, Y_pred_test1, squared=False).round(3))\n",
    "print('Training R squared value:', r2_score(Y_train, Y_pred_train1).round(3))\n",
    "print('Testing R squared value:', r2_score(Y_test, Y_pred_test1).round(3))"
   ]
  },
  {
   "cell_type": "markdown",
   "metadata": {},
   "source": [
    "#### Ridge model - 3"
   ]
  },
  {
   "cell_type": "code",
   "execution_count": 36,
   "metadata": {},
   "outputs": [
    {
     "name": "stdout",
     "output_type": "stream",
     "text": [
      "Training error: 1755.471\n",
      "Testing error: 2055.267\n",
      "Training R squared value: 0.758\n",
      "Testing R squared value: 0.712\n"
     ]
    }
   ],
   "source": [
    "# Finalized model\n",
    "\n",
    "from sklearn.model_selection import train_test_split # type: ignore\n",
    "X_train, X_test, Y_train, Y_test = train_test_split(X2_new, Y, test_size = 0.2, random_state=10)\n",
    "\n",
    "# Fit the model\n",
    "from sklearn.linear_model import LinearRegression # type: ignore\n",
    "LR = LinearRegression()\n",
    "LR.fit(X_train, Y_train)\n",
    "\n",
    "Y_pred_train1 = LR.predict(X_train)\n",
    "Y_pred_test1 = LR.predict(X_test)\n",
    "\n",
    "# Metrics\n",
    "from sklearn.metrics import mean_squared_error, r2_score # type: ignore\n",
    "\n",
    "print('Training error:', mean_squared_error(Y_train, Y_pred_train1, squared=False).round(3))\n",
    "print('Testing error:', mean_squared_error(Y_test, Y_pred_test1, squared=False).round(3))\n",
    "print('Training R squared value:', r2_score(Y_train, Y_pred_train1).round(3))\n",
    "print('Testing R squared value:', r2_score(Y_test, Y_pred_test1).round(3))"
   ]
  },
  {
   "cell_type": "markdown",
   "metadata": {},
   "source": [
    "#### Lasso Regression"
   ]
  },
  {
   "cell_type": "code",
   "execution_count": 37,
   "metadata": {},
   "outputs": [
    {
     "data": {
      "text/html": [
       "<div>\n",
       "<style scoped>\n",
       "    .dataframe tbody tr th:only-of-type {\n",
       "        vertical-align: middle;\n",
       "    }\n",
       "\n",
       "    .dataframe tbody tr th {\n",
       "        vertical-align: top;\n",
       "    }\n",
       "\n",
       "    .dataframe thead th {\n",
       "        text-align: right;\n",
       "    }\n",
       "</style>\n",
       "<table border=\"1\" class=\"dataframe\">\n",
       "  <thead>\n",
       "    <tr style=\"text-align: right;\">\n",
       "      <th></th>\n",
       "      <th>Age_08_04</th>\n",
       "      <th>KM</th>\n",
       "      <th>HP</th>\n",
       "      <th>cc</th>\n",
       "      <th>Weight</th>\n",
       "      <th>Fuel_Type</th>\n",
       "      <th>Automatic</th>\n",
       "      <th>Doors</th>\n",
       "      <th>Gears</th>\n",
       "    </tr>\n",
       "  </thead>\n",
       "  <tbody>\n",
       "    <tr>\n",
       "      <th>0</th>\n",
       "      <td>0.229730</td>\n",
       "      <td>0.310544</td>\n",
       "      <td>0.446809</td>\n",
       "      <td>0.5</td>\n",
       "      <td>0.433333</td>\n",
       "      <td>1</td>\n",
       "      <td>0</td>\n",
       "      <td>1</td>\n",
       "      <td>2</td>\n",
       "    </tr>\n",
       "    <tr>\n",
       "      <th>1</th>\n",
       "      <td>0.229730</td>\n",
       "      <td>0.482065</td>\n",
       "      <td>0.446809</td>\n",
       "      <td>0.5</td>\n",
       "      <td>0.433333</td>\n",
       "      <td>1</td>\n",
       "      <td>0</td>\n",
       "      <td>1</td>\n",
       "      <td>2</td>\n",
       "    </tr>\n",
       "    <tr>\n",
       "      <th>2</th>\n",
       "      <td>0.243243</td>\n",
       "      <td>0.275679</td>\n",
       "      <td>0.446809</td>\n",
       "      <td>0.5</td>\n",
       "      <td>0.433333</td>\n",
       "      <td>1</td>\n",
       "      <td>0</td>\n",
       "      <td>1</td>\n",
       "      <td>2</td>\n",
       "    </tr>\n",
       "    <tr>\n",
       "      <th>3</th>\n",
       "      <td>0.270270</td>\n",
       "      <td>0.317246</td>\n",
       "      <td>0.446809</td>\n",
       "      <td>0.5</td>\n",
       "      <td>0.433333</td>\n",
       "      <td>1</td>\n",
       "      <td>0</td>\n",
       "      <td>1</td>\n",
       "      <td>2</td>\n",
       "    </tr>\n",
       "    <tr>\n",
       "      <th>4</th>\n",
       "      <td>0.324324</td>\n",
       "      <td>0.254456</td>\n",
       "      <td>0.446809</td>\n",
       "      <td>0.5</td>\n",
       "      <td>0.433333</td>\n",
       "      <td>1</td>\n",
       "      <td>0</td>\n",
       "      <td>1</td>\n",
       "      <td>2</td>\n",
       "    </tr>\n",
       "  </tbody>\n",
       "</table>\n",
       "</div>"
      ],
      "text/plain": [
       "   Age_08_04        KM        HP   cc    Weight  Fuel_Type  Automatic  Doors  \\\n",
       "0   0.229730  0.310544  0.446809  0.5  0.433333          1          0      1   \n",
       "1   0.229730  0.482065  0.446809  0.5  0.433333          1          0      1   \n",
       "2   0.243243  0.275679  0.446809  0.5  0.433333          1          0      1   \n",
       "3   0.270270  0.317246  0.446809  0.5  0.433333          1          0      1   \n",
       "4   0.324324  0.254456  0.446809  0.5  0.433333          1          0      1   \n",
       "\n",
       "   Gears  \n",
       "0      2  \n",
       "1      2  \n",
       "2      2  \n",
       "3      2  \n",
       "4      2  "
      ]
     },
     "execution_count": 37,
     "metadata": {},
     "output_type": "execute_result"
    }
   ],
   "source": [
    "X = pd.concat([df_num, df_cat], axis = 1)\n",
    "X.head()"
   ]
  },
  {
   "cell_type": "code",
   "execution_count": 38,
   "metadata": {},
   "outputs": [
    {
     "data": {
      "text/plain": [
       "(1436, 1)"
      ]
     },
     "execution_count": 38,
     "metadata": {},
     "output_type": "execute_result"
    }
   ],
   "source": [
    "Y = df[['Price']]\n",
    "Y.shape"
   ]
  },
  {
   "cell_type": "code",
   "execution_count": 39,
   "metadata": {},
   "outputs": [],
   "source": [
    "from sklearn.model_selection import train_test_split # type: ignore\n",
    "X_train, X_test, Y_train, Y_test = train_test_split(X, Y, test_size=0.2, random_state=1)"
   ]
  },
  {
   "cell_type": "code",
   "execution_count": 40,
   "metadata": {},
   "outputs": [
    {
     "data": {
      "text/plain": [
       "array([-9961.63879682, -3460.54059803,  2421.98603668, -1204.01866725,\n",
       "        1771.90351409,  -742.08056927,   675.52249551,   115.71275983,\n",
       "        1312.990019  ])"
      ]
     },
     "execution_count": 40,
     "metadata": {},
     "output_type": "execute_result"
    }
   ],
   "source": [
    "from sklearn.linear_model import LinearRegression # type: ignore\n",
    "model = LinearRegression()\n",
    "model.fit(X_train, Y_train)\n",
    "\n",
    "Y_pred_train = model.predict(X_train)\n",
    "Y_pred_test = model.predict(X_test)\n",
    "LR_coef = model.coef_.ravel()\n",
    "LR_coef"
   ]
  },
  {
   "cell_type": "code",
   "execution_count": 41,
   "metadata": {},
   "outputs": [
    {
     "data": {
      "text/html": [
       "<div>\n",
       "<style scoped>\n",
       "    .dataframe tbody tr th:only-of-type {\n",
       "        vertical-align: middle;\n",
       "    }\n",
       "\n",
       "    .dataframe tbody tr th {\n",
       "        vertical-align: top;\n",
       "    }\n",
       "\n",
       "    .dataframe thead th {\n",
       "        text-align: right;\n",
       "    }\n",
       "</style>\n",
       "<table border=\"1\" class=\"dataframe\">\n",
       "  <thead>\n",
       "    <tr style=\"text-align: right;\">\n",
       "      <th></th>\n",
       "      <th>0</th>\n",
       "      <th>0</th>\n",
       "      <th>0</th>\n",
       "    </tr>\n",
       "  </thead>\n",
       "  <tbody>\n",
       "    <tr>\n",
       "      <th>0</th>\n",
       "      <td>Age_08_04</td>\n",
       "      <td>-9961.638797</td>\n",
       "      <td>-10016.439422</td>\n",
       "    </tr>\n",
       "    <tr>\n",
       "      <th>1</th>\n",
       "      <td>KM</td>\n",
       "      <td>-3460.540598</td>\n",
       "      <td>-2784.127994</td>\n",
       "    </tr>\n",
       "    <tr>\n",
       "      <th>2</th>\n",
       "      <td>HP</td>\n",
       "      <td>2421.986037</td>\n",
       "      <td>1298.330972</td>\n",
       "    </tr>\n",
       "    <tr>\n",
       "      <th>3</th>\n",
       "      <td>cc</td>\n",
       "      <td>-1204.018667</td>\n",
       "      <td>0.000000</td>\n",
       "    </tr>\n",
       "    <tr>\n",
       "      <th>4</th>\n",
       "      <td>Weight</td>\n",
       "      <td>1771.903514</td>\n",
       "      <td>1016.331159</td>\n",
       "    </tr>\n",
       "    <tr>\n",
       "      <th>5</th>\n",
       "      <td>Fuel_Type</td>\n",
       "      <td>-742.080569</td>\n",
       "      <td>-0.000000</td>\n",
       "    </tr>\n",
       "    <tr>\n",
       "      <th>6</th>\n",
       "      <td>Automatic</td>\n",
       "      <td>675.522496</td>\n",
       "      <td>63.246386</td>\n",
       "    </tr>\n",
       "    <tr>\n",
       "      <th>7</th>\n",
       "      <td>Doors</td>\n",
       "      <td>115.712760</td>\n",
       "      <td>124.982019</td>\n",
       "    </tr>\n",
       "    <tr>\n",
       "      <th>8</th>\n",
       "      <td>Gears</td>\n",
       "      <td>1312.990019</td>\n",
       "      <td>324.888422</td>\n",
       "    </tr>\n",
       "  </tbody>\n",
       "</table>\n",
       "</div>"
      ],
      "text/plain": [
       "           0            0             0\n",
       "0  Age_08_04 -9961.638797 -10016.439422\n",
       "1         KM -3460.540598  -2784.127994\n",
       "2         HP  2421.986037   1298.330972\n",
       "3         cc -1204.018667      0.000000\n",
       "4     Weight  1771.903514   1016.331159\n",
       "5  Fuel_Type  -742.080569     -0.000000\n",
       "6  Automatic   675.522496     63.246386\n",
       "7      Doors   115.712760    124.982019\n",
       "8      Gears  1312.990019    324.888422"
      ]
     },
     "execution_count": 41,
     "metadata": {},
     "output_type": "execute_result"
    }
   ],
   "source": [
    "LR_coef = LR_coef.ravel()\n",
    "\n",
    "from sklearn.linear_model import Lasso # type: ignore\n",
    "# reg = Lasso(alpha = 15) # 'cc' column is dropped\n",
    "# reg = Lasso(alpha = 40) # 3 columns is dropped\n",
    "reg = Lasso(alpha = 30) # 2 columns is dropped\n",
    "\n",
    "reg.fit(X_train, Y_train)\n",
    "\n",
    "coeff = pd.concat([pd.DataFrame(list(X)), pd.DataFrame(LR_coef), pd.DataFrame(reg.coef_)], axis = 1)\n",
    "coeff"
   ]
  },
  {
   "cell_type": "code",
   "execution_count": 42,
   "metadata": {},
   "outputs": [
    {
     "name": "stdout",
     "output_type": "stream",
     "text": [
      "Cross validation - Training error: 1812.77\n",
      "Cross validation - Test error: 1810.21\n"
     ]
    }
   ],
   "source": [
    "X_new = X.drop(X.columns[[3, 5]], axis = 1)\n",
    "X_new\n",
    "\n",
    "# Cross Validation\n",
    "training_err = []\n",
    "test_err = []\n",
    "\n",
    "for i in range(1,101):\n",
    "    X_train,X_test,Y_train,Y_test = train_test_split(X_new,Y, test_size=0.25,random_state=i)\n",
    "    lr = LinearRegression()\n",
    "    lr.fit(X_train,Y_train)\n",
    "    Y_pred_train = lr.predict(X_train)\n",
    "    Y_pred_test  = lr.predict(X_test)\n",
    "    training_err.append(mean_squared_error(Y_train,Y_pred_train,squared=False))\n",
    "    test_err.append(mean_squared_error(Y_test,Y_pred_test,squared=False))\n",
    "\n",
    "import numpy as np # type: ignore\n",
    "print(\"Cross validation - Training error:\" ,np.mean(training_err).round(2))\n",
    "print(\"Cross validation - Test error:\" ,np.mean(test_err).round(2))"
   ]
  },
  {
   "cell_type": "markdown",
   "metadata": {},
   "source": [
    "By removing 2-X variables, the varaince between Training error and testing error is reduced.\n",
    "\n",
    "As we remove the X variables, the overfitting stage of the model is overcome and the training error is increased and testing error is decreased.\n"
   ]
  },
  {
   "cell_type": "code",
   "execution_count": 43,
   "metadata": {},
   "outputs": [
    {
     "data": {
      "text/html": [
       "<div>\n",
       "<style scoped>\n",
       "    .dataframe tbody tr th:only-of-type {\n",
       "        vertical-align: middle;\n",
       "    }\n",
       "\n",
       "    .dataframe tbody tr th {\n",
       "        vertical-align: top;\n",
       "    }\n",
       "\n",
       "    .dataframe thead th {\n",
       "        text-align: right;\n",
       "    }\n",
       "</style>\n",
       "<table border=\"1\" class=\"dataframe\">\n",
       "  <thead>\n",
       "    <tr style=\"text-align: right;\">\n",
       "      <th></th>\n",
       "      <th>Age_08_04</th>\n",
       "      <th>KM</th>\n",
       "      <th>HP</th>\n",
       "      <th>cc</th>\n",
       "      <th>Weight</th>\n",
       "      <th>Fuel_Type</th>\n",
       "      <th>Automatic</th>\n",
       "      <th>Doors</th>\n",
       "      <th>Gears</th>\n",
       "    </tr>\n",
       "  </thead>\n",
       "  <tbody>\n",
       "    <tr>\n",
       "      <th>0</th>\n",
       "      <td>0.229730</td>\n",
       "      <td>0.310544</td>\n",
       "      <td>0.446809</td>\n",
       "      <td>0.5</td>\n",
       "      <td>0.433333</td>\n",
       "      <td>1</td>\n",
       "      <td>0</td>\n",
       "      <td>1</td>\n",
       "      <td>2</td>\n",
       "    </tr>\n",
       "    <tr>\n",
       "      <th>1</th>\n",
       "      <td>0.229730</td>\n",
       "      <td>0.482065</td>\n",
       "      <td>0.446809</td>\n",
       "      <td>0.5</td>\n",
       "      <td>0.433333</td>\n",
       "      <td>1</td>\n",
       "      <td>0</td>\n",
       "      <td>1</td>\n",
       "      <td>2</td>\n",
       "    </tr>\n",
       "    <tr>\n",
       "      <th>2</th>\n",
       "      <td>0.243243</td>\n",
       "      <td>0.275679</td>\n",
       "      <td>0.446809</td>\n",
       "      <td>0.5</td>\n",
       "      <td>0.433333</td>\n",
       "      <td>1</td>\n",
       "      <td>0</td>\n",
       "      <td>1</td>\n",
       "      <td>2</td>\n",
       "    </tr>\n",
       "    <tr>\n",
       "      <th>3</th>\n",
       "      <td>0.270270</td>\n",
       "      <td>0.317246</td>\n",
       "      <td>0.446809</td>\n",
       "      <td>0.5</td>\n",
       "      <td>0.433333</td>\n",
       "      <td>1</td>\n",
       "      <td>0</td>\n",
       "      <td>1</td>\n",
       "      <td>2</td>\n",
       "    </tr>\n",
       "    <tr>\n",
       "      <th>4</th>\n",
       "      <td>0.324324</td>\n",
       "      <td>0.254456</td>\n",
       "      <td>0.446809</td>\n",
       "      <td>0.5</td>\n",
       "      <td>0.433333</td>\n",
       "      <td>1</td>\n",
       "      <td>0</td>\n",
       "      <td>1</td>\n",
       "      <td>2</td>\n",
       "    </tr>\n",
       "  </tbody>\n",
       "</table>\n",
       "</div>"
      ],
      "text/plain": [
       "   Age_08_04        KM        HP   cc    Weight  Fuel_Type  Automatic  Doors  \\\n",
       "0   0.229730  0.310544  0.446809  0.5  0.433333          1          0      1   \n",
       "1   0.229730  0.482065  0.446809  0.5  0.433333          1          0      1   \n",
       "2   0.243243  0.275679  0.446809  0.5  0.433333          1          0      1   \n",
       "3   0.270270  0.317246  0.446809  0.5  0.433333          1          0      1   \n",
       "4   0.324324  0.254456  0.446809  0.5  0.433333          1          0      1   \n",
       "\n",
       "   Gears  \n",
       "0      2  \n",
       "1      2  \n",
       "2      2  \n",
       "3      2  \n",
       "4      2  "
      ]
     },
     "execution_count": 43,
     "metadata": {},
     "output_type": "execute_result"
    }
   ],
   "source": [
    "X.head() # model-1"
   ]
  },
  {
   "cell_type": "code",
   "execution_count": 44,
   "metadata": {},
   "outputs": [
    {
     "data": {
      "text/html": [
       "<div>\n",
       "<style scoped>\n",
       "    .dataframe tbody tr th:only-of-type {\n",
       "        vertical-align: middle;\n",
       "    }\n",
       "\n",
       "    .dataframe tbody tr th {\n",
       "        vertical-align: top;\n",
       "    }\n",
       "\n",
       "    .dataframe thead th {\n",
       "        text-align: right;\n",
       "    }\n",
       "</style>\n",
       "<table border=\"1\" class=\"dataframe\">\n",
       "  <thead>\n",
       "    <tr style=\"text-align: right;\">\n",
       "      <th></th>\n",
       "      <th>Age_08_04</th>\n",
       "      <th>KM</th>\n",
       "      <th>HP</th>\n",
       "      <th>Weight</th>\n",
       "      <th>Fuel_Type</th>\n",
       "      <th>Automatic</th>\n",
       "      <th>Doors</th>\n",
       "      <th>Gears</th>\n",
       "    </tr>\n",
       "  </thead>\n",
       "  <tbody>\n",
       "    <tr>\n",
       "      <th>0</th>\n",
       "      <td>0.229730</td>\n",
       "      <td>0.310544</td>\n",
       "      <td>0.446809</td>\n",
       "      <td>0.433333</td>\n",
       "      <td>1</td>\n",
       "      <td>0</td>\n",
       "      <td>1</td>\n",
       "      <td>2</td>\n",
       "    </tr>\n",
       "    <tr>\n",
       "      <th>1</th>\n",
       "      <td>0.229730</td>\n",
       "      <td>0.482065</td>\n",
       "      <td>0.446809</td>\n",
       "      <td>0.433333</td>\n",
       "      <td>1</td>\n",
       "      <td>0</td>\n",
       "      <td>1</td>\n",
       "      <td>2</td>\n",
       "    </tr>\n",
       "    <tr>\n",
       "      <th>2</th>\n",
       "      <td>0.243243</td>\n",
       "      <td>0.275679</td>\n",
       "      <td>0.446809</td>\n",
       "      <td>0.433333</td>\n",
       "      <td>1</td>\n",
       "      <td>0</td>\n",
       "      <td>1</td>\n",
       "      <td>2</td>\n",
       "    </tr>\n",
       "    <tr>\n",
       "      <th>3</th>\n",
       "      <td>0.270270</td>\n",
       "      <td>0.317246</td>\n",
       "      <td>0.446809</td>\n",
       "      <td>0.433333</td>\n",
       "      <td>1</td>\n",
       "      <td>0</td>\n",
       "      <td>1</td>\n",
       "      <td>2</td>\n",
       "    </tr>\n",
       "    <tr>\n",
       "      <th>4</th>\n",
       "      <td>0.324324</td>\n",
       "      <td>0.254456</td>\n",
       "      <td>0.446809</td>\n",
       "      <td>0.433333</td>\n",
       "      <td>1</td>\n",
       "      <td>0</td>\n",
       "      <td>1</td>\n",
       "      <td>2</td>\n",
       "    </tr>\n",
       "  </tbody>\n",
       "</table>\n",
       "</div>"
      ],
      "text/plain": [
       "   Age_08_04        KM        HP    Weight  Fuel_Type  Automatic  Doors  Gears\n",
       "0   0.229730  0.310544  0.446809  0.433333          1          0      1      2\n",
       "1   0.229730  0.482065  0.446809  0.433333          1          0      1      2\n",
       "2   0.243243  0.275679  0.446809  0.433333          1          0      1      2\n",
       "3   0.270270  0.317246  0.446809  0.433333          1          0      1      2\n",
       "4   0.324324  0.254456  0.446809  0.433333          1          0      1      2"
      ]
     },
     "execution_count": 44,
     "metadata": {},
     "output_type": "execute_result"
    }
   ],
   "source": [
    "X1 = X.drop(X[['cc']], axis = 1)\n",
    "X1.head() # model-2"
   ]
  },
  {
   "cell_type": "code",
   "execution_count": 45,
   "metadata": {},
   "outputs": [
    {
     "data": {
      "text/html": [
       "<div>\n",
       "<style scoped>\n",
       "    .dataframe tbody tr th:only-of-type {\n",
       "        vertical-align: middle;\n",
       "    }\n",
       "\n",
       "    .dataframe tbody tr th {\n",
       "        vertical-align: top;\n",
       "    }\n",
       "\n",
       "    .dataframe thead th {\n",
       "        text-align: right;\n",
       "    }\n",
       "</style>\n",
       "<table border=\"1\" class=\"dataframe\">\n",
       "  <thead>\n",
       "    <tr style=\"text-align: right;\">\n",
       "      <th></th>\n",
       "      <th>Age_08_04</th>\n",
       "      <th>KM</th>\n",
       "      <th>HP</th>\n",
       "      <th>Weight</th>\n",
       "      <th>Automatic</th>\n",
       "      <th>Doors</th>\n",
       "      <th>Gears</th>\n",
       "    </tr>\n",
       "  </thead>\n",
       "  <tbody>\n",
       "    <tr>\n",
       "      <th>0</th>\n",
       "      <td>0.229730</td>\n",
       "      <td>0.310544</td>\n",
       "      <td>0.446809</td>\n",
       "      <td>0.433333</td>\n",
       "      <td>0</td>\n",
       "      <td>1</td>\n",
       "      <td>2</td>\n",
       "    </tr>\n",
       "    <tr>\n",
       "      <th>1</th>\n",
       "      <td>0.229730</td>\n",
       "      <td>0.482065</td>\n",
       "      <td>0.446809</td>\n",
       "      <td>0.433333</td>\n",
       "      <td>0</td>\n",
       "      <td>1</td>\n",
       "      <td>2</td>\n",
       "    </tr>\n",
       "    <tr>\n",
       "      <th>2</th>\n",
       "      <td>0.243243</td>\n",
       "      <td>0.275679</td>\n",
       "      <td>0.446809</td>\n",
       "      <td>0.433333</td>\n",
       "      <td>0</td>\n",
       "      <td>1</td>\n",
       "      <td>2</td>\n",
       "    </tr>\n",
       "    <tr>\n",
       "      <th>3</th>\n",
       "      <td>0.270270</td>\n",
       "      <td>0.317246</td>\n",
       "      <td>0.446809</td>\n",
       "      <td>0.433333</td>\n",
       "      <td>0</td>\n",
       "      <td>1</td>\n",
       "      <td>2</td>\n",
       "    </tr>\n",
       "    <tr>\n",
       "      <th>4</th>\n",
       "      <td>0.324324</td>\n",
       "      <td>0.254456</td>\n",
       "      <td>0.446809</td>\n",
       "      <td>0.433333</td>\n",
       "      <td>0</td>\n",
       "      <td>1</td>\n",
       "      <td>2</td>\n",
       "    </tr>\n",
       "  </tbody>\n",
       "</table>\n",
       "</div>"
      ],
      "text/plain": [
       "   Age_08_04        KM        HP    Weight  Automatic  Doors  Gears\n",
       "0   0.229730  0.310544  0.446809  0.433333          0      1      2\n",
       "1   0.229730  0.482065  0.446809  0.433333          0      1      2\n",
       "2   0.243243  0.275679  0.446809  0.433333          0      1      2\n",
       "3   0.270270  0.317246  0.446809  0.433333          0      1      2\n",
       "4   0.324324  0.254456  0.446809  0.433333          0      1      2"
      ]
     },
     "execution_count": 45,
     "metadata": {},
     "output_type": "execute_result"
    }
   ],
   "source": [
    "X2 = X.drop(X[['cc', 'Fuel_Type']], axis = 1)\n",
    "X2.head() # model-3"
   ]
  },
  {
   "cell_type": "markdown",
   "metadata": {},
   "source": [
    "#### Model - 1"
   ]
  },
  {
   "cell_type": "code",
   "execution_count": 46,
   "metadata": {},
   "outputs": [
    {
     "name": "stdout",
     "output_type": "stream",
     "text": [
      "Training error: 1744.466\n",
      "Testing error: 2015.101\n",
      "Training R squared value: 0.761\n",
      "Testing R squared value: 0.723\n"
     ]
    }
   ],
   "source": [
    "# Finalized model\n",
    "\n",
    "from sklearn.model_selection import train_test_split # type: ignore\n",
    "X_train, X_test, Y_train, Y_test = train_test_split(X, Y, test_size = 0.2, random_state=10)\n",
    "\n",
    "# Fit the model\n",
    "from sklearn.linear_model import LinearRegression # type: ignore\n",
    "LR = LinearRegression()\n",
    "LR.fit(X_train, Y_train)\n",
    "\n",
    "Y_pred_train = LR.predict(X_train)\n",
    "Y_pred_test = LR.predict(X_test)\n",
    "\n",
    "# Metrics\n",
    "from sklearn.metrics import mean_squared_error, r2_score # type: ignore\n",
    "\n",
    "print('Training error:', mean_squared_error(Y_train, Y_pred_train, squared=False).round(3))\n",
    "print('Testing error:', mean_squared_error(Y_test, Y_pred_test, squared=False).round(3))\n",
    "print('Training R squared value:', r2_score(Y_train, Y_pred_train).round(3))\n",
    "print('Testing R squared value:', r2_score(Y_test, Y_pred_test).round(3))"
   ]
  },
  {
   "cell_type": "markdown",
   "metadata": {},
   "source": [
    "#### Model - 2"
   ]
  },
  {
   "cell_type": "code",
   "execution_count": 47,
   "metadata": {},
   "outputs": [
    {
     "name": "stdout",
     "output_type": "stream",
     "text": [
      "Training error: 1750.369\n",
      "Testing error: 2028.399\n",
      "Training R squared value: 0.76\n",
      "Testing R squared value: 0.72\n"
     ]
    }
   ],
   "source": [
    "# Finalized model\n",
    "\n",
    "from sklearn.model_selection import train_test_split # type: ignore\n",
    "X_train, X_test, Y_train, Y_test = train_test_split(X1, Y, test_size = 0.2, random_state=10)\n",
    "\n",
    "# Fit the model\n",
    "from sklearn.linear_model import LinearRegression # type: ignore\n",
    "LR = LinearRegression()\n",
    "LR.fit(X_train, Y_train)\n",
    "\n",
    "Y1_pred_train = LR.predict(X_train)\n",
    "Y1_pred_test = LR.predict(X_test)\n",
    "\n",
    "# Metrics\n",
    "from sklearn.metrics import mean_squared_error, r2_score # type: ignore\n",
    "\n",
    "print('Training error:', mean_squared_error(Y_train, Y1_pred_train, squared=False).round(3))\n",
    "print('Testing error:', mean_squared_error(Y_test, Y1_pred_test, squared=False).round(3))\n",
    "print('Training R squared value:', r2_score(Y_train, Y1_pred_train).round(3))\n",
    "print('Testing R squared value:', r2_score(Y_test, Y1_pred_test).round(3))"
   ]
  },
  {
   "cell_type": "markdown",
   "metadata": {},
   "source": [
    "#### Model - 3"
   ]
  },
  {
   "cell_type": "code",
   "execution_count": 48,
   "metadata": {},
   "outputs": [
    {
     "name": "stdout",
     "output_type": "stream",
     "text": [
      "Training error: 1752.911\n",
      "Testing error: 2050.692\n",
      "Training R squared value: 0.759\n",
      "Testing R squared value: 0.713\n"
     ]
    }
   ],
   "source": [
    "# Finalized model\n",
    "\n",
    "from sklearn.model_selection import train_test_split # type: ignore\n",
    "X_train, X_test, Y_train, Y_test = train_test_split(X2, Y, test_size = 0.2, random_state=10)\n",
    "\n",
    "# Fit the model\n",
    "from sklearn.linear_model import LinearRegression # type: ignore\n",
    "LR = LinearRegression()\n",
    "LR.fit(X_train, Y_train)\n",
    "\n",
    "Y2_pred_train = LR.predict(X_train)\n",
    "Y2_pred_test = LR.predict(X_test)\n",
    "\n",
    "# Metrics\n",
    "from sklearn.metrics import mean_squared_error, r2_score # type: ignore\n",
    "\n",
    "print('Training error:', mean_squared_error(Y_train, Y2_pred_train, squared=False).round(3))\n",
    "print('Testing error:', mean_squared_error(Y_test, Y2_pred_test, squared=False).round(3))\n",
    "print('Training R squared value:', r2_score(Y_train, Y2_pred_train).round(3))\n",
    "print('Testing R squared value:', r2_score(Y_test, Y2_pred_test).round(3))"
   ]
  },
  {
   "cell_type": "markdown",
   "metadata": {},
   "source": [
    "### 7. Final Model"
   ]
  },
  {
   "cell_type": "code",
   "execution_count": 49,
   "metadata": {},
   "outputs": [
    {
     "data": {
      "text/html": [
       "<table class=\"simpletable\">\n",
       "<caption>OLS Regression Results</caption>\n",
       "<tr>\n",
       "  <th>Dep. Variable:</th>            <td>Y</td>        <th>  R-squared:         </th> <td>   0.749</td> \n",
       "</tr>\n",
       "<tr>\n",
       "  <th>Model:</th>                   <td>OLS</td>       <th>  Adj. R-squared:    </th> <td>   0.748</td> \n",
       "</tr>\n",
       "<tr>\n",
       "  <th>Method:</th>             <td>Least Squares</td>  <th>  F-statistic:       </th> <td>   609.9</td> \n",
       "</tr>\n",
       "<tr>\n",
       "  <th>Date:</th>             <td>Fri, 26 Jul 2024</td> <th>  Prob (F-statistic):</th>  <td>  0.00</td>  \n",
       "</tr>\n",
       "<tr>\n",
       "  <th>Time:</th>                 <td>11:01:16</td>     <th>  Log-Likelihood:    </th> <td> -12813.</td> \n",
       "</tr>\n",
       "<tr>\n",
       "  <th>No. Observations:</th>      <td>  1436</td>      <th>  AIC:               </th> <td>2.564e+04</td>\n",
       "</tr>\n",
       "<tr>\n",
       "  <th>Df Residuals:</th>          <td>  1428</td>      <th>  BIC:               </th> <td>2.568e+04</td>\n",
       "</tr>\n",
       "<tr>\n",
       "  <th>Df Model:</th>              <td>     7</td>      <th>                     </th>     <td> </td>    \n",
       "</tr>\n",
       "<tr>\n",
       "  <th>Covariance Type:</th>      <td>nonrobust</td>    <th>                     </th>     <td> </td>    \n",
       "</tr>\n",
       "</table>\n",
       "<table class=\"simpletable\">\n",
       "<tr>\n",
       "      <td></td>         <th>coef</th>     <th>std err</th>      <th>t</th>      <th>P>|t|</th>  <th>[0.025</th>    <th>0.975]</th>  \n",
       "</tr>\n",
       "<tr>\n",
       "  <th>Intercept</th> <td> 1.436e+04</td> <td>  589.670</td> <td>   24.360</td> <td> 0.000</td> <td> 1.32e+04</td> <td> 1.55e+04</td>\n",
       "</tr>\n",
       "<tr>\n",
       "  <th>X2[0]</th>     <td>-1.021e+04</td> <td>  251.414</td> <td>  -40.621</td> <td> 0.000</td> <td>-1.07e+04</td> <td>-9719.473</td>\n",
       "</tr>\n",
       "<tr>\n",
       "  <th>X2[1]</th>     <td>-3188.5993</td> <td>  289.080</td> <td>  -11.030</td> <td> 0.000</td> <td>-3755.667</td> <td>-2621.532</td>\n",
       "</tr>\n",
       "<tr>\n",
       "  <th>X2[2]</th>     <td> 1395.3630</td> <td>  184.735</td> <td>    7.553</td> <td> 0.000</td> <td> 1032.982</td> <td> 1757.744</td>\n",
       "</tr>\n",
       "<tr>\n",
       "  <th>X2[3]</th>     <td> 1481.8607</td> <td>  263.671</td> <td>    5.620</td> <td> 0.000</td> <td>  964.637</td> <td> 1999.085</td>\n",
       "</tr>\n",
       "<tr>\n",
       "  <th>X2[4]</th>     <td>  640.5382</td> <td>  213.228</td> <td>    3.004</td> <td> 0.003</td> <td>  222.265</td> <td> 1058.811</td>\n",
       "</tr>\n",
       "<tr>\n",
       "  <th>X2[5]</th>     <td>  170.3849</td> <td>   57.626</td> <td>    2.957</td> <td> 0.003</td> <td>   57.344</td> <td>  283.425</td>\n",
       "</tr>\n",
       "<tr>\n",
       "  <th>X2[6]</th>     <td> 1328.5561</td> <td>  262.357</td> <td>    5.064</td> <td> 0.000</td> <td>  813.909</td> <td> 1843.203</td>\n",
       "</tr>\n",
       "</table>\n",
       "<table class=\"simpletable\">\n",
       "<tr>\n",
       "  <th>Omnibus:</th>       <td>1126.325</td> <th>  Durbin-Watson:     </th> <td>   1.129</td> \n",
       "</tr>\n",
       "<tr>\n",
       "  <th>Prob(Omnibus):</th>  <td> 0.000</td>  <th>  Jarque-Bera (JB):  </th> <td>56461.376</td>\n",
       "</tr>\n",
       "<tr>\n",
       "  <th>Skew:</th>           <td> 3.196</td>  <th>  Prob(JB):          </th> <td>    0.00</td> \n",
       "</tr>\n",
       "<tr>\n",
       "  <th>Kurtosis:</th>       <td>33.046</td>  <th>  Cond. No.          </th> <td>    44.2</td> \n",
       "</tr>\n",
       "</table><br/><br/>Notes:<br/>[1] Standard Errors assume that the covariance matrix of the errors is correctly specified."
      ],
      "text/latex": [
       "\\begin{center}\n",
       "\\begin{tabular}{lclc}\n",
       "\\toprule\n",
       "\\textbf{Dep. Variable:}    &        Y         & \\textbf{  R-squared:         } &     0.749   \\\\\n",
       "\\textbf{Model:}            &       OLS        & \\textbf{  Adj. R-squared:    } &     0.748   \\\\\n",
       "\\textbf{Method:}           &  Least Squares   & \\textbf{  F-statistic:       } &     609.9   \\\\\n",
       "\\textbf{Date:}             & Fri, 26 Jul 2024 & \\textbf{  Prob (F-statistic):} &     0.00    \\\\\n",
       "\\textbf{Time:}             &     11:01:16     & \\textbf{  Log-Likelihood:    } &   -12813.   \\\\\n",
       "\\textbf{No. Observations:} &        1436      & \\textbf{  AIC:               } & 2.564e+04   \\\\\n",
       "\\textbf{Df Residuals:}     &        1428      & \\textbf{  BIC:               } & 2.568e+04   \\\\\n",
       "\\textbf{Df Model:}         &           7      & \\textbf{                     } &             \\\\\n",
       "\\textbf{Covariance Type:}  &    nonrobust     & \\textbf{                     } &             \\\\\n",
       "\\bottomrule\n",
       "\\end{tabular}\n",
       "\\begin{tabular}{lcccccc}\n",
       "                   & \\textbf{coef} & \\textbf{std err} & \\textbf{t} & \\textbf{P$> |$t$|$} & \\textbf{[0.025} & \\textbf{0.975]}  \\\\\n",
       "\\midrule\n",
       "\\textbf{Intercept} &    1.436e+04  &      589.670     &    24.360  &         0.000        &     1.32e+04    &     1.55e+04     \\\\\n",
       "\\textbf{X2[0]}     &   -1.021e+04  &      251.414     &   -40.621  &         0.000        &    -1.07e+04    &    -9719.473     \\\\\n",
       "\\textbf{X2[1]}     &   -3188.5993  &      289.080     &   -11.030  &         0.000        &    -3755.667    &    -2621.532     \\\\\n",
       "\\textbf{X2[2]}     &    1395.3630  &      184.735     &     7.553  &         0.000        &     1032.982    &     1757.744     \\\\\n",
       "\\textbf{X2[3]}     &    1481.8607  &      263.671     &     5.620  &         0.000        &      964.637    &     1999.085     \\\\\n",
       "\\textbf{X2[4]}     &     640.5382  &      213.228     &     3.004  &         0.003        &      222.265    &     1058.811     \\\\\n",
       "\\textbf{X2[5]}     &     170.3849  &       57.626     &     2.957  &         0.003        &       57.344    &      283.425     \\\\\n",
       "\\textbf{X2[6]}     &    1328.5561  &      262.357     &     5.064  &         0.000        &      813.909    &     1843.203     \\\\\n",
       "\\bottomrule\n",
       "\\end{tabular}\n",
       "\\begin{tabular}{lclc}\n",
       "\\textbf{Omnibus:}       & 1126.325 & \\textbf{  Durbin-Watson:     } &     1.129  \\\\\n",
       "\\textbf{Prob(Omnibus):} &   0.000  & \\textbf{  Jarque-Bera (JB):  } & 56461.376  \\\\\n",
       "\\textbf{Skew:}          &   3.196  & \\textbf{  Prob(JB):          } &      0.00  \\\\\n",
       "\\textbf{Kurtosis:}      &  33.046  & \\textbf{  Cond. No.          } &      44.2  \\\\\n",
       "\\bottomrule\n",
       "\\end{tabular}\n",
       "%\\caption{OLS Regression Results}\n",
       "\\end{center}\n",
       "\n",
       "Notes: \\newline\n",
       " [1] Standard Errors assume that the covariance matrix of the errors is correctly specified."
      ],
      "text/plain": [
       "<class 'statsmodels.iolib.summary.Summary'>\n",
       "\"\"\"\n",
       "                            OLS Regression Results                            \n",
       "==============================================================================\n",
       "Dep. Variable:                      Y   R-squared:                       0.749\n",
       "Model:                            OLS   Adj. R-squared:                  0.748\n",
       "Method:                 Least Squares   F-statistic:                     609.9\n",
       "Date:                Fri, 26 Jul 2024   Prob (F-statistic):               0.00\n",
       "Time:                        11:01:16   Log-Likelihood:                -12813.\n",
       "No. Observations:                1436   AIC:                         2.564e+04\n",
       "Df Residuals:                    1428   BIC:                         2.568e+04\n",
       "Df Model:                           7                                         \n",
       "Covariance Type:            nonrobust                                         \n",
       "==============================================================================\n",
       "                 coef    std err          t      P>|t|      [0.025      0.975]\n",
       "------------------------------------------------------------------------------\n",
       "Intercept   1.436e+04    589.670     24.360      0.000    1.32e+04    1.55e+04\n",
       "X2[0]      -1.021e+04    251.414    -40.621      0.000   -1.07e+04   -9719.473\n",
       "X2[1]      -3188.5993    289.080    -11.030      0.000   -3755.667   -2621.532\n",
       "X2[2]       1395.3630    184.735      7.553      0.000    1032.982    1757.744\n",
       "X2[3]       1481.8607    263.671      5.620      0.000     964.637    1999.085\n",
       "X2[4]        640.5382    213.228      3.004      0.003     222.265    1058.811\n",
       "X2[5]        170.3849     57.626      2.957      0.003      57.344     283.425\n",
       "X2[6]       1328.5561    262.357      5.064      0.000     813.909    1843.203\n",
       "==============================================================================\n",
       "Omnibus:                     1126.325   Durbin-Watson:                   1.129\n",
       "Prob(Omnibus):                  0.000   Jarque-Bera (JB):            56461.376\n",
       "Skew:                           3.196   Prob(JB):                         0.00\n",
       "Kurtosis:                      33.046   Cond. No.                         44.2\n",
       "==============================================================================\n",
       "\n",
       "Notes:\n",
       "[1] Standard Errors assume that the covariance matrix of the errors is correctly specified.\n",
       "\"\"\""
      ]
     },
     "execution_count": 49,
     "metadata": {},
     "output_type": "execute_result"
    }
   ],
   "source": [
    "# OLS method\n",
    "\n",
    "from statsmodels.formula.api import ols # type: ignore\n",
    "model = ols('Y~X2', data = df).fit()\n",
    "model.summary()"
   ]
  },
  {
   "cell_type": "code",
   "execution_count": 50,
   "metadata": {},
   "outputs": [
    {
     "name": "stdout",
     "output_type": "stream",
     "text": [
      "VIF value: 3.989467864180164\n"
     ]
    }
   ],
   "source": [
    "r2 = model.rsquared\n",
    "VIF = 1 / (1 - r2)\n",
    "print('VIF value:', VIF)\n",
    "# Here VIF value is 3.98.\n",
    "# Hence, the model is excellent."
   ]
  },
  {
   "cell_type": "code",
   "execution_count": 51,
   "metadata": {},
   "outputs": [
    {
     "name": "stdout",
     "output_type": "stream",
     "text": [
      "VIF value: 3.989467864180164\n"
     ]
    }
   ],
   "source": [
    "from statsmodels.formula.api import ols # type: ignore\n",
    "model = ols('Y ~ X2', data = X2).fit()\n",
    "model.summary()\n",
    "r2 = model.rsquared\n",
    "VIF = 1 / (1 - r2)\n",
    "print('VIF value:', VIF)"
   ]
  },
  {
   "cell_type": "code",
   "execution_count": 52,
   "metadata": {},
   "outputs": [
    {
     "data": {
      "text/plain": [
       "0      -1620.812594\n",
       "1       -823.899914\n",
       "2      -1143.973442\n",
       "3        264.583774\n",
       "4       -583.591693\n",
       "           ...     \n",
       "1431   -1315.749529\n",
       "1432    2509.528162\n",
       "1433     -15.293116\n",
       "1434   -1405.409432\n",
       "1435   -3265.160785\n",
       "Length: 1436, dtype: float64"
      ]
     },
     "execution_count": 52,
     "metadata": {},
     "output_type": "execute_result"
    }
   ],
   "source": [
    "# As VIF value = 3.977 < 5, model is excellent. We can consider the model.\n",
    "\n",
    "# For the Assumptions purpose we have to perform Residual analysis\n",
    "model.resid # Errors for every value"
   ]
  },
  {
   "cell_type": "code",
   "execution_count": 53,
   "metadata": {},
   "outputs": [
    {
     "data": {
      "image/png": "[encoded data removed]",
      "text/plain": [
       "<Figure size 640x480 with 1 Axes>"
      ]
     },
     "metadata": {},
     "output_type": "display_data"
    },
    {
     "data": {
      "text/plain": [
       "3.1994310502814214"
      ]
     },
     "execution_count": 53,
     "metadata": {},
     "output_type": "execute_result"
    }
   ],
   "source": [
    "import matplotlib.pyplot as plt # type: ignore\n",
    "import seaborn as sns\n",
    "plt.hist(model.resid)\n",
    "plt.show()\n",
    "model.resid.skew()"
   ]
  },
  {
   "cell_type": "code",
   "execution_count": 54,
   "metadata": {},
   "outputs": [
    {
     "data": {
      "image/png": "[encoded data removed]",
      "text/plain": [
       "<Figure size 640x480 with 1 Axes>"
      ]
     },
     "metadata": {},
     "output_type": "display_data"
    }
   ],
   "source": [
    "# Q - Q plot which is to identify the outliers among the X - values.\n",
    "import statsmodels.api as sm # type: ignore\n",
    "qqplot = sm.qqplot(model.resid, line = 'q')\n",
    "plt.title('Normal Q - Q plot of Residuals')\n",
    "plt.show()"
   ]
  },
  {
   "cell_type": "code",
   "execution_count": 55,
   "metadata": {},
   "outputs": [],
   "source": [
    "# Model Deletion Diagnostics\n",
    "# Detecting Influencers / Outliers\n",
    "# Cook's distance\n",
    "\n",
    "(cooks, pvalue) = model.get_influence().cooks_distance\n",
    "cooks = pd.DataFrame(cooks)"
   ]
  },
  {
   "cell_type": "code",
   "execution_count": 56,
   "metadata": {},
   "outputs": [
    {
     "data": {
      "image/png": "[encoded data removed]",
      "text/plain": [
       "<Figure size 2000x700 with 1 Axes>"
      ]
     },
     "metadata": {},
     "output_type": "display_data"
    }
   ],
   "source": [
    "import numpy as np # type: ignore\n",
    "import matplotlib.pyplot as plt # type: ignore\n",
    "fig = plt.subplots(figsize = (20, 7))\n",
    "plt.stem(np.arange(len(X2)), np.round(cooks[0], 3))\n",
    "plt.xlabel('Row index')\n",
    "plt.ylabel('Cooks distance')\n",
    "plt.show()\n",
    "# This plot shows the Cook's distance between each and every data points."
   ]
  },
  {
   "cell_type": "code",
   "execution_count": 57,
   "metadata": {},
   "outputs": [
    {
     "data": {
      "text/plain": [
       "0.016713091922005572"
      ]
     },
     "execution_count": 57,
     "metadata": {},
     "output_type": "execute_result"
    }
   ],
   "source": [
    "# Leverage Cutoff value is a value of cook's distance. \n",
    "# The data points having cook's distance more than Leverage Cutoff value will treated as Outliers / Influencers\n",
    "\n",
    "k = X2.shape[1]\n",
    "n = X2.shape[0]\n",
    "\n",
    "leverage_cutoff = 3*((k + 1) / n)\n",
    "leverage_cutoff"
   ]
  },
  {
   "cell_type": "code",
   "execution_count": 58,
   "metadata": {},
   "outputs": [
    {
     "data": {
      "text/plain": [
       "13     0.021487\n",
       "14     0.033894\n",
       "15     0.021902\n",
       "49     0.034864\n",
       "109    0.113367\n",
       "110    0.090479\n",
       "111    0.097516\n",
       "182    0.031505\n",
       "183    0.036370\n",
       "330    0.038404\n",
       "Name: 0, dtype: float64"
      ]
     },
     "execution_count": 58,
     "metadata": {},
     "output_type": "execute_result"
    }
   ],
   "source": [
    "# This gives the data points which are having cook's distance more than leverage Cutoff\n",
    "cooks[0][cooks[0] > leverage_cutoff]"
   ]
  },
  {
   "cell_type": "code",
   "execution_count": 59,
   "metadata": {},
   "outputs": [
    {
     "data": {
      "text/html": [
       "<div>\n",
       "<style scoped>\n",
       "    .dataframe tbody tr th:only-of-type {\n",
       "        vertical-align: middle;\n",
       "    }\n",
       "\n",
       "    .dataframe tbody tr th {\n",
       "        vertical-align: top;\n",
       "    }\n",
       "\n",
       "    .dataframe thead th {\n",
       "        text-align: right;\n",
       "    }\n",
       "</style>\n",
       "<table border=\"1\" class=\"dataframe\">\n",
       "  <thead>\n",
       "    <tr style=\"text-align: right;\">\n",
       "      <th></th>\n",
       "      <th>Price</th>\n",
       "    </tr>\n",
       "  </thead>\n",
       "  <tbody>\n",
       "    <tr>\n",
       "      <th>0</th>\n",
       "      <td>13500</td>\n",
       "    </tr>\n",
       "    <tr>\n",
       "      <th>1</th>\n",
       "      <td>13750</td>\n",
       "    </tr>\n",
       "    <tr>\n",
       "      <th>2</th>\n",
       "      <td>13950</td>\n",
       "    </tr>\n",
       "    <tr>\n",
       "      <th>3</th>\n",
       "      <td>14950</td>\n",
       "    </tr>\n",
       "    <tr>\n",
       "      <th>4</th>\n",
       "      <td>13750</td>\n",
       "    </tr>\n",
       "  </tbody>\n",
       "</table>\n",
       "</div>"
      ],
      "text/plain": [
       "   Price\n",
       "0  13500\n",
       "1  13750\n",
       "2  13950\n",
       "3  14950\n",
       "4  13750"
      ]
     },
     "execution_count": 59,
     "metadata": {},
     "output_type": "execute_result"
    }
   ],
   "source": [
    "Y = df[['Price']]\n",
    "Y.head()"
   ]
  },
  {
   "cell_type": "code",
   "execution_count": 60,
   "metadata": {},
   "outputs": [
    {
     "data": {
      "text/plain": [
       "(1436, 1)"
      ]
     },
     "execution_count": 60,
     "metadata": {},
     "output_type": "execute_result"
    }
   ],
   "source": [
    "Y.shape"
   ]
  },
  {
   "cell_type": "code",
   "execution_count": 61,
   "metadata": {},
   "outputs": [
    {
     "data": {
      "text/html": [
       "<div>\n",
       "<style scoped>\n",
       "    .dataframe tbody tr th:only-of-type {\n",
       "        vertical-align: middle;\n",
       "    }\n",
       "\n",
       "    .dataframe tbody tr th {\n",
       "        vertical-align: top;\n",
       "    }\n",
       "\n",
       "    .dataframe thead th {\n",
       "        text-align: right;\n",
       "    }\n",
       "</style>\n",
       "<table border=\"1\" class=\"dataframe\">\n",
       "  <thead>\n",
       "    <tr style=\"text-align: right;\">\n",
       "      <th></th>\n",
       "      <th>Age_08_04</th>\n",
       "      <th>KM</th>\n",
       "      <th>HP</th>\n",
       "      <th>Weight</th>\n",
       "      <th>Automatic</th>\n",
       "      <th>Doors</th>\n",
       "      <th>Gears</th>\n",
       "      <th>Price</th>\n",
       "    </tr>\n",
       "  </thead>\n",
       "  <tbody>\n",
       "    <tr>\n",
       "      <th>0</th>\n",
       "      <td>0.229730</td>\n",
       "      <td>0.310544</td>\n",
       "      <td>0.446809</td>\n",
       "      <td>0.433333</td>\n",
       "      <td>0</td>\n",
       "      <td>1</td>\n",
       "      <td>2</td>\n",
       "      <td>13500</td>\n",
       "    </tr>\n",
       "    <tr>\n",
       "      <th>1</th>\n",
       "      <td>0.229730</td>\n",
       "      <td>0.482065</td>\n",
       "      <td>0.446809</td>\n",
       "      <td>0.433333</td>\n",
       "      <td>0</td>\n",
       "      <td>1</td>\n",
       "      <td>2</td>\n",
       "      <td>13750</td>\n",
       "    </tr>\n",
       "    <tr>\n",
       "      <th>2</th>\n",
       "      <td>0.243243</td>\n",
       "      <td>0.275679</td>\n",
       "      <td>0.446809</td>\n",
       "      <td>0.433333</td>\n",
       "      <td>0</td>\n",
       "      <td>1</td>\n",
       "      <td>2</td>\n",
       "      <td>13950</td>\n",
       "    </tr>\n",
       "    <tr>\n",
       "      <th>3</th>\n",
       "      <td>0.270270</td>\n",
       "      <td>0.317246</td>\n",
       "      <td>0.446809</td>\n",
       "      <td>0.433333</td>\n",
       "      <td>0</td>\n",
       "      <td>1</td>\n",
       "      <td>2</td>\n",
       "      <td>14950</td>\n",
       "    </tr>\n",
       "    <tr>\n",
       "      <th>4</th>\n",
       "      <td>0.324324</td>\n",
       "      <td>0.254456</td>\n",
       "      <td>0.446809</td>\n",
       "      <td>0.433333</td>\n",
       "      <td>0</td>\n",
       "      <td>1</td>\n",
       "      <td>2</td>\n",
       "      <td>13750</td>\n",
       "    </tr>\n",
       "  </tbody>\n",
       "</table>\n",
       "</div>"
      ],
      "text/plain": [
       "   Age_08_04        KM        HP    Weight  Automatic  Doors  Gears  Price\n",
       "0   0.229730  0.310544  0.446809  0.433333          0      1      2  13500\n",
       "1   0.229730  0.482065  0.446809  0.433333          0      1      2  13750\n",
       "2   0.243243  0.275679  0.446809  0.433333          0      1      2  13950\n",
       "3   0.270270  0.317246  0.446809  0.433333          0      1      2  14950\n",
       "4   0.324324  0.254456  0.446809  0.433333          0      1      2  13750"
      ]
     },
     "execution_count": 61,
     "metadata": {},
     "output_type": "execute_result"
    }
   ],
   "source": [
    "df1 = pd.concat([X2, Y], axis = 1)\n",
    "df1.head()"
   ]
  },
  {
   "cell_type": "code",
   "execution_count": 62,
   "metadata": {},
   "outputs": [
    {
     "data": {
      "text/plain": [
       "(1426, 8)"
      ]
     },
     "execution_count": 62,
     "metadata": {},
     "output_type": "execute_result"
    }
   ],
   "source": [
    "# Now dropping the outliers\n",
    "df1.drop([13, 14, 15, 49, 109, 110, 111, 182, 183, 330], inplace = True)\n",
    "df1.shape"
   ]
  },
  {
   "cell_type": "code",
   "execution_count": 63,
   "metadata": {},
   "outputs": [
    {
     "data": {
      "text/html": [
       "<div>\n",
       "<style scoped>\n",
       "    .dataframe tbody tr th:only-of-type {\n",
       "        vertical-align: middle;\n",
       "    }\n",
       "\n",
       "    .dataframe tbody tr th {\n",
       "        vertical-align: top;\n",
       "    }\n",
       "\n",
       "    .dataframe thead th {\n",
       "        text-align: right;\n",
       "    }\n",
       "</style>\n",
       "<table border=\"1\" class=\"dataframe\">\n",
       "  <thead>\n",
       "    <tr style=\"text-align: right;\">\n",
       "      <th></th>\n",
       "      <th>Age_08_04</th>\n",
       "      <th>KM</th>\n",
       "      <th>HP</th>\n",
       "      <th>Weight</th>\n",
       "      <th>Automatic</th>\n",
       "      <th>Doors</th>\n",
       "      <th>Gears</th>\n",
       "      <th>Price</th>\n",
       "    </tr>\n",
       "  </thead>\n",
       "  <tbody>\n",
       "    <tr>\n",
       "      <th>0</th>\n",
       "      <td>0.229730</td>\n",
       "      <td>0.310544</td>\n",
       "      <td>0.446809</td>\n",
       "      <td>0.433333</td>\n",
       "      <td>0</td>\n",
       "      <td>1</td>\n",
       "      <td>2</td>\n",
       "      <td>13500</td>\n",
       "    </tr>\n",
       "    <tr>\n",
       "      <th>1</th>\n",
       "      <td>0.229730</td>\n",
       "      <td>0.482065</td>\n",
       "      <td>0.446809</td>\n",
       "      <td>0.433333</td>\n",
       "      <td>0</td>\n",
       "      <td>1</td>\n",
       "      <td>2</td>\n",
       "      <td>13750</td>\n",
       "    </tr>\n",
       "    <tr>\n",
       "      <th>2</th>\n",
       "      <td>0.243243</td>\n",
       "      <td>0.275679</td>\n",
       "      <td>0.446809</td>\n",
       "      <td>0.433333</td>\n",
       "      <td>0</td>\n",
       "      <td>1</td>\n",
       "      <td>2</td>\n",
       "      <td>13950</td>\n",
       "    </tr>\n",
       "    <tr>\n",
       "      <th>3</th>\n",
       "      <td>0.270270</td>\n",
       "      <td>0.317246</td>\n",
       "      <td>0.446809</td>\n",
       "      <td>0.433333</td>\n",
       "      <td>0</td>\n",
       "      <td>1</td>\n",
       "      <td>2</td>\n",
       "      <td>14950</td>\n",
       "    </tr>\n",
       "    <tr>\n",
       "      <th>4</th>\n",
       "      <td>0.324324</td>\n",
       "      <td>0.254456</td>\n",
       "      <td>0.446809</td>\n",
       "      <td>0.433333</td>\n",
       "      <td>0</td>\n",
       "      <td>1</td>\n",
       "      <td>2</td>\n",
       "      <td>13750</td>\n",
       "    </tr>\n",
       "  </tbody>\n",
       "</table>\n",
       "</div>"
      ],
      "text/plain": [
       "   Age_08_04        KM        HP    Weight  Automatic  Doors  Gears  Price\n",
       "0   0.229730  0.310544  0.446809  0.433333          0      1      2  13500\n",
       "1   0.229730  0.482065  0.446809  0.433333          0      1      2  13750\n",
       "2   0.243243  0.275679  0.446809  0.433333          0      1      2  13950\n",
       "3   0.270270  0.317246  0.446809  0.433333          0      1      2  14950\n",
       "4   0.324324  0.254456  0.446809  0.433333          0      1      2  13750"
      ]
     },
     "execution_count": 63,
     "metadata": {},
     "output_type": "execute_result"
    }
   ],
   "source": [
    "df1.head()"
   ]
  },
  {
   "cell_type": "code",
   "execution_count": 64,
   "metadata": {},
   "outputs": [
    {
     "data": {
      "text/plain": [
       "0.8099"
      ]
     },
     "execution_count": 64,
     "metadata": {},
     "output_type": "execute_result"
    }
   ],
   "source": [
    "# Now checking the model r_square after removing the outliers\n",
    "\n",
    "X_final = df1.iloc[:, :-1]\n",
    "Y = df1[['Price']]\n",
    "\n",
    "model = ols('Y ~ X_final', data = df1).fit()\n",
    "model.rsquared.round(4)"
   ]
  },
  {
   "cell_type": "code",
   "execution_count": 65,
   "metadata": {},
   "outputs": [
    {
     "name": "stdout",
     "output_type": "stream",
     "text": [
      "(1426, 7)\n",
      "(1426, 1)\n"
     ]
    }
   ],
   "source": [
    "print(X_final.shape)\n",
    "print(Y.shape)"
   ]
  },
  {
   "cell_type": "markdown",
   "metadata": {},
   "source": [
    "#### After removing all the outliers, calculating the metrics for the finalized model"
   ]
  },
  {
   "cell_type": "code",
   "execution_count": 66,
   "metadata": {},
   "outputs": [],
   "source": [
    "# Finalized model\n",
    "\n",
    "from sklearn.model_selection import train_test_split # type: ignore\n",
    "X_train_final, X_test_final, Y_train_final, Y_test_final = train_test_split(X_final, Y, test_size = 0.2, random_state=10)\n",
    "\n",
    "# Fit the model\n",
    "from sklearn.linear_model import LinearRegression # type: ignore\n",
    "LR = LinearRegression()\n",
    "LR.fit(X_train_final, Y_train_final)\n",
    "\n",
    "Y2_pred_train_final = LR.predict(X_train_final)\n",
    "Y2_pred_test_final = LR.predict(X_test_final)"
   ]
  },
  {
   "cell_type": "code",
   "execution_count": 67,
   "metadata": {},
   "outputs": [
    {
     "name": "stdout",
     "output_type": "stream",
     "text": [
      "Training R square value: 0.815\n",
      "Testing R square value: 0.787\n"
     ]
    }
   ],
   "source": [
    "print('Training R square value:', r2_score(Y_train_final, Y2_pred_train_final).round(3))\n",
    "print('Testing R square value:', r2_score(Y_test_final, Y2_pred_test_final).round(3))"
   ]
  },
  {
   "cell_type": "markdown",
   "metadata": {},
   "source": [
    "Training R square value is increasd by approximatley 6% and Testing R square value is increased by 3%.\n",
    "\n",
    "The Training R-square value of the finalized model is 81.5%.\n",
    "\n",
    "The testing R-square value of the finalized model is 78.7% which is performing well."
   ]
  }
 ],
 "metadata": {
  "kernelspec": {
   "display_name": "Python 3",
   "language": "python",
   "name": "python3"
  },
  "language_info": {
   "codemirror_mode": {
    "name": "ipython",
    "version": 3
   },
   "file_extension": ".py",
   "mimetype": "text/x-python",
   "name": "python",
   "nbconvert_exporter": "python",
   "pygments_lexer": "ipython3",
   "version": "3.11.4"
  }
 },
 "nbformat": 4,
 "nbformat_minor": 2
}
